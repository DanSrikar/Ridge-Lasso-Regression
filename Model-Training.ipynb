{
 "cells": [
  {
   "cell_type": "code",
   "execution_count": 1,
   "id": "6949169c",
   "metadata": {},
   "outputs": [],
   "source": [
    "import pandas as pd\n",
    "import numpy as np\n",
    "import seaborn as sns\n",
    "import matplotlib.pyplot as plt\n",
    "%matplotlib inline"
   ]
  },
  {
   "cell_type": "code",
   "execution_count": 23,
   "id": "bc8c3161",
   "metadata": {},
   "outputs": [],
   "source": [
    "df=pd.read_csv(\"Cleaned_algerian_dataset.csv\")"
   ]
  },
  {
   "cell_type": "code",
   "execution_count": 24,
   "id": "c390e573",
   "metadata": {},
   "outputs": [
    {
     "data": {
      "text/html": [
       "<div>\n",
       "<style scoped>\n",
       "    .dataframe tbody tr th:only-of-type {\n",
       "        vertical-align: middle;\n",
       "    }\n",
       "\n",
       "    .dataframe tbody tr th {\n",
       "        vertical-align: top;\n",
       "    }\n",
       "\n",
       "    .dataframe thead th {\n",
       "        text-align: right;\n",
       "    }\n",
       "</style>\n",
       "<table border=\"1\" class=\"dataframe\">\n",
       "  <thead>\n",
       "    <tr style=\"text-align: right;\">\n",
       "      <th></th>\n",
       "      <th>day</th>\n",
       "      <th>month</th>\n",
       "      <th>year</th>\n",
       "      <th>Temperature</th>\n",
       "      <th>RH</th>\n",
       "      <th>Ws</th>\n",
       "      <th>Rain</th>\n",
       "      <th>FFMC</th>\n",
       "      <th>DMC</th>\n",
       "      <th>DC</th>\n",
       "      <th>ISI</th>\n",
       "      <th>BUI</th>\n",
       "      <th>FWI</th>\n",
       "      <th>Classes</th>\n",
       "      <th>region</th>\n",
       "    </tr>\n",
       "  </thead>\n",
       "  <tbody>\n",
       "    <tr>\n",
       "      <th>0</th>\n",
       "      <td>1</td>\n",
       "      <td>6</td>\n",
       "      <td>2012</td>\n",
       "      <td>29</td>\n",
       "      <td>57</td>\n",
       "      <td>18</td>\n",
       "      <td>0.0</td>\n",
       "      <td>65.7</td>\n",
       "      <td>3.4</td>\n",
       "      <td>7.6</td>\n",
       "      <td>1.3</td>\n",
       "      <td>3.4</td>\n",
       "      <td>0.5</td>\n",
       "      <td>not fire</td>\n",
       "      <td>0</td>\n",
       "    </tr>\n",
       "    <tr>\n",
       "      <th>1</th>\n",
       "      <td>2</td>\n",
       "      <td>6</td>\n",
       "      <td>2012</td>\n",
       "      <td>29</td>\n",
       "      <td>61</td>\n",
       "      <td>13</td>\n",
       "      <td>1.3</td>\n",
       "      <td>64.4</td>\n",
       "      <td>4.1</td>\n",
       "      <td>7.6</td>\n",
       "      <td>1.0</td>\n",
       "      <td>3.9</td>\n",
       "      <td>0.4</td>\n",
       "      <td>not fire</td>\n",
       "      <td>0</td>\n",
       "    </tr>\n",
       "    <tr>\n",
       "      <th>2</th>\n",
       "      <td>3</td>\n",
       "      <td>6</td>\n",
       "      <td>2012</td>\n",
       "      <td>26</td>\n",
       "      <td>82</td>\n",
       "      <td>22</td>\n",
       "      <td>13.1</td>\n",
       "      <td>47.1</td>\n",
       "      <td>2.5</td>\n",
       "      <td>7.1</td>\n",
       "      <td>0.3</td>\n",
       "      <td>2.7</td>\n",
       "      <td>0.1</td>\n",
       "      <td>not fire</td>\n",
       "      <td>0</td>\n",
       "    </tr>\n",
       "    <tr>\n",
       "      <th>3</th>\n",
       "      <td>4</td>\n",
       "      <td>6</td>\n",
       "      <td>2012</td>\n",
       "      <td>25</td>\n",
       "      <td>89</td>\n",
       "      <td>13</td>\n",
       "      <td>2.5</td>\n",
       "      <td>28.6</td>\n",
       "      <td>1.3</td>\n",
       "      <td>6.9</td>\n",
       "      <td>0.0</td>\n",
       "      <td>1.7</td>\n",
       "      <td>0.0</td>\n",
       "      <td>not fire</td>\n",
       "      <td>0</td>\n",
       "    </tr>\n",
       "    <tr>\n",
       "      <th>4</th>\n",
       "      <td>5</td>\n",
       "      <td>6</td>\n",
       "      <td>2012</td>\n",
       "      <td>27</td>\n",
       "      <td>77</td>\n",
       "      <td>16</td>\n",
       "      <td>0.0</td>\n",
       "      <td>64.8</td>\n",
       "      <td>3.0</td>\n",
       "      <td>14.2</td>\n",
       "      <td>1.2</td>\n",
       "      <td>3.9</td>\n",
       "      <td>0.5</td>\n",
       "      <td>not fire</td>\n",
       "      <td>0</td>\n",
       "    </tr>\n",
       "  </tbody>\n",
       "</table>\n",
       "</div>"
      ],
      "text/plain": [
       "   day  month  year  Temperature  RH  Ws  Rain  FFMC  DMC    DC  ISI  BUI  \\\n",
       "0    1      6  2012           29  57  18   0.0  65.7  3.4   7.6  1.3  3.4   \n",
       "1    2      6  2012           29  61  13   1.3  64.4  4.1   7.6  1.0  3.9   \n",
       "2    3      6  2012           26  82  22  13.1  47.1  2.5   7.1  0.3  2.7   \n",
       "3    4      6  2012           25  89  13   2.5  28.6  1.3   6.9  0.0  1.7   \n",
       "4    5      6  2012           27  77  16   0.0  64.8  3.0  14.2  1.2  3.9   \n",
       "\n",
       "   FWI      Classes  region  \n",
       "0  0.5  not fire          0  \n",
       "1  0.4  not fire          0  \n",
       "2  0.1  not fire          0  \n",
       "3  0.0  not fire          0  \n",
       "4  0.5  not fire          0  "
      ]
     },
     "execution_count": 24,
     "metadata": {},
     "output_type": "execute_result"
    }
   ],
   "source": [
    "df.head()"
   ]
  },
  {
   "cell_type": "code",
   "execution_count": 25,
   "id": "ba5b2256",
   "metadata": {},
   "outputs": [],
   "source": [
    "df.drop([\"day\",\"month\",\"year\"],axis=1,inplace=True)"
   ]
  },
  {
   "cell_type": "code",
   "execution_count": 26,
   "id": "b1bcad74",
   "metadata": {},
   "outputs": [
    {
     "data": {
      "text/html": [
       "<div>\n",
       "<style scoped>\n",
       "    .dataframe tbody tr th:only-of-type {\n",
       "        vertical-align: middle;\n",
       "    }\n",
       "\n",
       "    .dataframe tbody tr th {\n",
       "        vertical-align: top;\n",
       "    }\n",
       "\n",
       "    .dataframe thead th {\n",
       "        text-align: right;\n",
       "    }\n",
       "</style>\n",
       "<table border=\"1\" class=\"dataframe\">\n",
       "  <thead>\n",
       "    <tr style=\"text-align: right;\">\n",
       "      <th></th>\n",
       "      <th>Temperature</th>\n",
       "      <th>RH</th>\n",
       "      <th>Ws</th>\n",
       "      <th>Rain</th>\n",
       "      <th>FFMC</th>\n",
       "      <th>DMC</th>\n",
       "      <th>DC</th>\n",
       "      <th>ISI</th>\n",
       "      <th>BUI</th>\n",
       "      <th>FWI</th>\n",
       "      <th>Classes</th>\n",
       "      <th>region</th>\n",
       "    </tr>\n",
       "  </thead>\n",
       "  <tbody>\n",
       "    <tr>\n",
       "      <th>0</th>\n",
       "      <td>29</td>\n",
       "      <td>57</td>\n",
       "      <td>18</td>\n",
       "      <td>0.0</td>\n",
       "      <td>65.7</td>\n",
       "      <td>3.4</td>\n",
       "      <td>7.6</td>\n",
       "      <td>1.3</td>\n",
       "      <td>3.4</td>\n",
       "      <td>0.5</td>\n",
       "      <td>not fire</td>\n",
       "      <td>0</td>\n",
       "    </tr>\n",
       "    <tr>\n",
       "      <th>1</th>\n",
       "      <td>29</td>\n",
       "      <td>61</td>\n",
       "      <td>13</td>\n",
       "      <td>1.3</td>\n",
       "      <td>64.4</td>\n",
       "      <td>4.1</td>\n",
       "      <td>7.6</td>\n",
       "      <td>1.0</td>\n",
       "      <td>3.9</td>\n",
       "      <td>0.4</td>\n",
       "      <td>not fire</td>\n",
       "      <td>0</td>\n",
       "    </tr>\n",
       "    <tr>\n",
       "      <th>2</th>\n",
       "      <td>26</td>\n",
       "      <td>82</td>\n",
       "      <td>22</td>\n",
       "      <td>13.1</td>\n",
       "      <td>47.1</td>\n",
       "      <td>2.5</td>\n",
       "      <td>7.1</td>\n",
       "      <td>0.3</td>\n",
       "      <td>2.7</td>\n",
       "      <td>0.1</td>\n",
       "      <td>not fire</td>\n",
       "      <td>0</td>\n",
       "    </tr>\n",
       "    <tr>\n",
       "      <th>3</th>\n",
       "      <td>25</td>\n",
       "      <td>89</td>\n",
       "      <td>13</td>\n",
       "      <td>2.5</td>\n",
       "      <td>28.6</td>\n",
       "      <td>1.3</td>\n",
       "      <td>6.9</td>\n",
       "      <td>0.0</td>\n",
       "      <td>1.7</td>\n",
       "      <td>0.0</td>\n",
       "      <td>not fire</td>\n",
       "      <td>0</td>\n",
       "    </tr>\n",
       "    <tr>\n",
       "      <th>4</th>\n",
       "      <td>27</td>\n",
       "      <td>77</td>\n",
       "      <td>16</td>\n",
       "      <td>0.0</td>\n",
       "      <td>64.8</td>\n",
       "      <td>3.0</td>\n",
       "      <td>14.2</td>\n",
       "      <td>1.2</td>\n",
       "      <td>3.9</td>\n",
       "      <td>0.5</td>\n",
       "      <td>not fire</td>\n",
       "      <td>0</td>\n",
       "    </tr>\n",
       "  </tbody>\n",
       "</table>\n",
       "</div>"
      ],
      "text/plain": [
       "   Temperature  RH  Ws  Rain  FFMC  DMC    DC  ISI  BUI  FWI      Classes  \\\n",
       "0           29  57  18   0.0  65.7  3.4   7.6  1.3  3.4  0.5  not fire      \n",
       "1           29  61  13   1.3  64.4  4.1   7.6  1.0  3.9  0.4  not fire      \n",
       "2           26  82  22  13.1  47.1  2.5   7.1  0.3  2.7  0.1  not fire      \n",
       "3           25  89  13   2.5  28.6  1.3   6.9  0.0  1.7  0.0  not fire      \n",
       "4           27  77  16   0.0  64.8  3.0  14.2  1.2  3.9  0.5  not fire      \n",
       "\n",
       "   region  \n",
       "0       0  \n",
       "1       0  \n",
       "2       0  \n",
       "3       0  \n",
       "4       0  "
      ]
     },
     "execution_count": 26,
     "metadata": {},
     "output_type": "execute_result"
    }
   ],
   "source": [
    "df.head()"
   ]
  },
  {
   "cell_type": "code",
   "execution_count": 27,
   "id": "3df86310",
   "metadata": {},
   "outputs": [],
   "source": [
    "df[\"Classes\"]=np.where(df[\"Classes\"].str.contains(\"not fire\"),0,1)"
   ]
  },
  {
   "cell_type": "code",
   "execution_count": 28,
   "id": "ecfc89ef",
   "metadata": {},
   "outputs": [
    {
     "data": {
      "text/plain": [
       "1    137\n",
       "0    106\n",
       "Name: Classes, dtype: int64"
      ]
     },
     "execution_count": 28,
     "metadata": {},
     "output_type": "execute_result"
    }
   ],
   "source": [
    "df[\"Classes\"].value_counts()"
   ]
  },
  {
   "cell_type": "code",
   "execution_count": 29,
   "id": "f7e2a762",
   "metadata": {},
   "outputs": [
    {
     "data": {
      "text/html": [
       "<div>\n",
       "<style scoped>\n",
       "    .dataframe tbody tr th:only-of-type {\n",
       "        vertical-align: middle;\n",
       "    }\n",
       "\n",
       "    .dataframe tbody tr th {\n",
       "        vertical-align: top;\n",
       "    }\n",
       "\n",
       "    .dataframe thead th {\n",
       "        text-align: right;\n",
       "    }\n",
       "</style>\n",
       "<table border=\"1\" class=\"dataframe\">\n",
       "  <thead>\n",
       "    <tr style=\"text-align: right;\">\n",
       "      <th></th>\n",
       "      <th>Temperature</th>\n",
       "      <th>RH</th>\n",
       "      <th>Ws</th>\n",
       "      <th>Rain</th>\n",
       "      <th>FFMC</th>\n",
       "      <th>DMC</th>\n",
       "      <th>DC</th>\n",
       "      <th>ISI</th>\n",
       "      <th>BUI</th>\n",
       "      <th>FWI</th>\n",
       "      <th>Classes</th>\n",
       "      <th>region</th>\n",
       "    </tr>\n",
       "  </thead>\n",
       "  <tbody>\n",
       "    <tr>\n",
       "      <th>Temperature</th>\n",
       "      <td>1.000000</td>\n",
       "      <td>-0.651400</td>\n",
       "      <td>-0.284510</td>\n",
       "      <td>-0.326492</td>\n",
       "      <td>0.676568</td>\n",
       "      <td>0.485687</td>\n",
       "      <td>0.376284</td>\n",
       "      <td>0.603871</td>\n",
       "      <td>0.459789</td>\n",
       "      <td>0.566670</td>\n",
       "      <td>0.516015</td>\n",
       "      <td>0.269555</td>\n",
       "    </tr>\n",
       "    <tr>\n",
       "      <th>RH</th>\n",
       "      <td>-0.651400</td>\n",
       "      <td>1.000000</td>\n",
       "      <td>0.244048</td>\n",
       "      <td>0.222356</td>\n",
       "      <td>-0.644873</td>\n",
       "      <td>-0.408519</td>\n",
       "      <td>-0.226941</td>\n",
       "      <td>-0.686667</td>\n",
       "      <td>-0.353841</td>\n",
       "      <td>-0.580957</td>\n",
       "      <td>-0.432161</td>\n",
       "      <td>-0.402682</td>\n",
       "    </tr>\n",
       "    <tr>\n",
       "      <th>Ws</th>\n",
       "      <td>-0.284510</td>\n",
       "      <td>0.244048</td>\n",
       "      <td>1.000000</td>\n",
       "      <td>0.171506</td>\n",
       "      <td>-0.166548</td>\n",
       "      <td>-0.000721</td>\n",
       "      <td>0.079135</td>\n",
       "      <td>0.008532</td>\n",
       "      <td>0.031438</td>\n",
       "      <td>0.032368</td>\n",
       "      <td>-0.069964</td>\n",
       "      <td>-0.181160</td>\n",
       "    </tr>\n",
       "    <tr>\n",
       "      <th>Rain</th>\n",
       "      <td>-0.326492</td>\n",
       "      <td>0.222356</td>\n",
       "      <td>0.171506</td>\n",
       "      <td>1.000000</td>\n",
       "      <td>-0.543906</td>\n",
       "      <td>-0.288773</td>\n",
       "      <td>-0.298023</td>\n",
       "      <td>-0.347484</td>\n",
       "      <td>-0.299852</td>\n",
       "      <td>-0.324422</td>\n",
       "      <td>-0.379097</td>\n",
       "      <td>-0.040013</td>\n",
       "    </tr>\n",
       "    <tr>\n",
       "      <th>FFMC</th>\n",
       "      <td>0.676568</td>\n",
       "      <td>-0.644873</td>\n",
       "      <td>-0.166548</td>\n",
       "      <td>-0.543906</td>\n",
       "      <td>1.000000</td>\n",
       "      <td>0.603608</td>\n",
       "      <td>0.507397</td>\n",
       "      <td>0.740007</td>\n",
       "      <td>0.592011</td>\n",
       "      <td>0.691132</td>\n",
       "      <td>0.769492</td>\n",
       "      <td>0.222241</td>\n",
       "    </tr>\n",
       "    <tr>\n",
       "      <th>DMC</th>\n",
       "      <td>0.485687</td>\n",
       "      <td>-0.408519</td>\n",
       "      <td>-0.000721</td>\n",
       "      <td>-0.288773</td>\n",
       "      <td>0.603608</td>\n",
       "      <td>1.000000</td>\n",
       "      <td>0.875925</td>\n",
       "      <td>0.680454</td>\n",
       "      <td>0.982248</td>\n",
       "      <td>0.875864</td>\n",
       "      <td>0.585658</td>\n",
       "      <td>0.192089</td>\n",
       "    </tr>\n",
       "    <tr>\n",
       "      <th>DC</th>\n",
       "      <td>0.376284</td>\n",
       "      <td>-0.226941</td>\n",
       "      <td>0.079135</td>\n",
       "      <td>-0.298023</td>\n",
       "      <td>0.507397</td>\n",
       "      <td>0.875925</td>\n",
       "      <td>1.000000</td>\n",
       "      <td>0.508643</td>\n",
       "      <td>0.941988</td>\n",
       "      <td>0.739521</td>\n",
       "      <td>0.511123</td>\n",
       "      <td>-0.078734</td>\n",
       "    </tr>\n",
       "    <tr>\n",
       "      <th>ISI</th>\n",
       "      <td>0.603871</td>\n",
       "      <td>-0.686667</td>\n",
       "      <td>0.008532</td>\n",
       "      <td>-0.347484</td>\n",
       "      <td>0.740007</td>\n",
       "      <td>0.680454</td>\n",
       "      <td>0.508643</td>\n",
       "      <td>1.000000</td>\n",
       "      <td>0.644093</td>\n",
       "      <td>0.922895</td>\n",
       "      <td>0.735197</td>\n",
       "      <td>0.263197</td>\n",
       "    </tr>\n",
       "    <tr>\n",
       "      <th>BUI</th>\n",
       "      <td>0.459789</td>\n",
       "      <td>-0.353841</td>\n",
       "      <td>0.031438</td>\n",
       "      <td>-0.299852</td>\n",
       "      <td>0.592011</td>\n",
       "      <td>0.982248</td>\n",
       "      <td>0.941988</td>\n",
       "      <td>0.644093</td>\n",
       "      <td>1.000000</td>\n",
       "      <td>0.857973</td>\n",
       "      <td>0.586639</td>\n",
       "      <td>0.089408</td>\n",
       "    </tr>\n",
       "    <tr>\n",
       "      <th>FWI</th>\n",
       "      <td>0.566670</td>\n",
       "      <td>-0.580957</td>\n",
       "      <td>0.032368</td>\n",
       "      <td>-0.324422</td>\n",
       "      <td>0.691132</td>\n",
       "      <td>0.875864</td>\n",
       "      <td>0.739521</td>\n",
       "      <td>0.922895</td>\n",
       "      <td>0.857973</td>\n",
       "      <td>1.000000</td>\n",
       "      <td>0.719216</td>\n",
       "      <td>0.197102</td>\n",
       "    </tr>\n",
       "    <tr>\n",
       "      <th>Classes</th>\n",
       "      <td>0.516015</td>\n",
       "      <td>-0.432161</td>\n",
       "      <td>-0.069964</td>\n",
       "      <td>-0.379097</td>\n",
       "      <td>0.769492</td>\n",
       "      <td>0.585658</td>\n",
       "      <td>0.511123</td>\n",
       "      <td>0.735197</td>\n",
       "      <td>0.586639</td>\n",
       "      <td>0.719216</td>\n",
       "      <td>1.000000</td>\n",
       "      <td>0.162347</td>\n",
       "    </tr>\n",
       "    <tr>\n",
       "      <th>region</th>\n",
       "      <td>0.269555</td>\n",
       "      <td>-0.402682</td>\n",
       "      <td>-0.181160</td>\n",
       "      <td>-0.040013</td>\n",
       "      <td>0.222241</td>\n",
       "      <td>0.192089</td>\n",
       "      <td>-0.078734</td>\n",
       "      <td>0.263197</td>\n",
       "      <td>0.089408</td>\n",
       "      <td>0.197102</td>\n",
       "      <td>0.162347</td>\n",
       "      <td>1.000000</td>\n",
       "    </tr>\n",
       "  </tbody>\n",
       "</table>\n",
       "</div>"
      ],
      "text/plain": [
       "             Temperature        RH        Ws      Rain      FFMC       DMC  \\\n",
       "Temperature     1.000000 -0.651400 -0.284510 -0.326492  0.676568  0.485687   \n",
       "RH             -0.651400  1.000000  0.244048  0.222356 -0.644873 -0.408519   \n",
       "Ws             -0.284510  0.244048  1.000000  0.171506 -0.166548 -0.000721   \n",
       "Rain           -0.326492  0.222356  0.171506  1.000000 -0.543906 -0.288773   \n",
       "FFMC            0.676568 -0.644873 -0.166548 -0.543906  1.000000  0.603608   \n",
       "DMC             0.485687 -0.408519 -0.000721 -0.288773  0.603608  1.000000   \n",
       "DC              0.376284 -0.226941  0.079135 -0.298023  0.507397  0.875925   \n",
       "ISI             0.603871 -0.686667  0.008532 -0.347484  0.740007  0.680454   \n",
       "BUI             0.459789 -0.353841  0.031438 -0.299852  0.592011  0.982248   \n",
       "FWI             0.566670 -0.580957  0.032368 -0.324422  0.691132  0.875864   \n",
       "Classes         0.516015 -0.432161 -0.069964 -0.379097  0.769492  0.585658   \n",
       "region          0.269555 -0.402682 -0.181160 -0.040013  0.222241  0.192089   \n",
       "\n",
       "                   DC       ISI       BUI       FWI   Classes    region  \n",
       "Temperature  0.376284  0.603871  0.459789  0.566670  0.516015  0.269555  \n",
       "RH          -0.226941 -0.686667 -0.353841 -0.580957 -0.432161 -0.402682  \n",
       "Ws           0.079135  0.008532  0.031438  0.032368 -0.069964 -0.181160  \n",
       "Rain        -0.298023 -0.347484 -0.299852 -0.324422 -0.379097 -0.040013  \n",
       "FFMC         0.507397  0.740007  0.592011  0.691132  0.769492  0.222241  \n",
       "DMC          0.875925  0.680454  0.982248  0.875864  0.585658  0.192089  \n",
       "DC           1.000000  0.508643  0.941988  0.739521  0.511123 -0.078734  \n",
       "ISI          0.508643  1.000000  0.644093  0.922895  0.735197  0.263197  \n",
       "BUI          0.941988  0.644093  1.000000  0.857973  0.586639  0.089408  \n",
       "FWI          0.739521  0.922895  0.857973  1.000000  0.719216  0.197102  \n",
       "Classes      0.511123  0.735197  0.586639  0.719216  1.000000  0.162347  \n",
       "region      -0.078734  0.263197  0.089408  0.197102  0.162347  1.000000  "
      ]
     },
     "execution_count": 29,
     "metadata": {},
     "output_type": "execute_result"
    }
   ],
   "source": [
    "df.corr()"
   ]
  },
  {
   "cell_type": "code",
   "execution_count": 30,
   "id": "190ce79c",
   "metadata": {},
   "outputs": [
    {
     "data": {
      "text/plain": [
       "<AxesSubplot:>"
      ]
     },
     "execution_count": 30,
     "metadata": {},
     "output_type": "execute_result"
    },
    {
     "data": {
      "image/png": "[encoded data removed]",
      "text/plain": [
       "<Figure size 1440x1080 with 2 Axes>"
      ]
     },
     "metadata": {
      "needs_background": "light"
     },
     "output_type": "display_data"
    }
   ],
   "source": [
    "plt.figure(figsize=(20,15))\n",
    "sns.heatmap(df.corr(),annot=True)"
   ]
  },
  {
   "cell_type": "code",
   "execution_count": 31,
   "id": "75ab14bd",
   "metadata": {},
   "outputs": [],
   "source": [
    "def correlation(dataset, threshold):\n",
    "    col_corr = set()\n",
    "    corr_matrix = dataset.corr()\n",
    "    for i in range(len(corr_matrix.columns)):\n",
    "        for j in range(i):\n",
    "            if abs(corr_matrix.iloc[i, j]) > threshold: \n",
    "                colname = corr_matrix.columns[i]\n",
    "                col_corr.add(colname)\n",
    "    return col_corr"
   ]
  },
  {
   "cell_type": "code",
   "execution_count": 32,
   "id": "91d0bb47",
   "metadata": {},
   "outputs": [
    {
     "data": {
      "text/plain": [
       "{'BUI', 'DC', 'FWI'}"
      ]
     },
     "execution_count": 32,
     "metadata": {},
     "output_type": "execute_result"
    }
   ],
   "source": [
    "correlation(df,0.85)"
   ]
  },
  {
   "cell_type": "code",
   "execution_count": 33,
   "id": "69b362fa",
   "metadata": {},
   "outputs": [
    {
     "data": {
      "text/html": [
       "<div>\n",
       "<style scoped>\n",
       "    .dataframe tbody tr th:only-of-type {\n",
       "        vertical-align: middle;\n",
       "    }\n",
       "\n",
       "    .dataframe tbody tr th {\n",
       "        vertical-align: top;\n",
       "    }\n",
       "\n",
       "    .dataframe thead th {\n",
       "        text-align: right;\n",
       "    }\n",
       "</style>\n",
       "<table border=\"1\" class=\"dataframe\">\n",
       "  <thead>\n",
       "    <tr style=\"text-align: right;\">\n",
       "      <th></th>\n",
       "      <th>Temperature</th>\n",
       "      <th>RH</th>\n",
       "      <th>Ws</th>\n",
       "      <th>Rain</th>\n",
       "      <th>FFMC</th>\n",
       "      <th>DMC</th>\n",
       "      <th>DC</th>\n",
       "      <th>ISI</th>\n",
       "      <th>BUI</th>\n",
       "      <th>FWI</th>\n",
       "      <th>Classes</th>\n",
       "      <th>region</th>\n",
       "    </tr>\n",
       "  </thead>\n",
       "  <tbody>\n",
       "    <tr>\n",
       "      <th>Temperature</th>\n",
       "      <td>1.000000</td>\n",
       "      <td>-0.651400</td>\n",
       "      <td>-0.284510</td>\n",
       "      <td>-0.326492</td>\n",
       "      <td>0.676568</td>\n",
       "      <td>0.485687</td>\n",
       "      <td>0.376284</td>\n",
       "      <td>0.603871</td>\n",
       "      <td>0.459789</td>\n",
       "      <td>0.566670</td>\n",
       "      <td>0.516015</td>\n",
       "      <td>0.269555</td>\n",
       "    </tr>\n",
       "    <tr>\n",
       "      <th>RH</th>\n",
       "      <td>-0.651400</td>\n",
       "      <td>1.000000</td>\n",
       "      <td>0.244048</td>\n",
       "      <td>0.222356</td>\n",
       "      <td>-0.644873</td>\n",
       "      <td>-0.408519</td>\n",
       "      <td>-0.226941</td>\n",
       "      <td>-0.686667</td>\n",
       "      <td>-0.353841</td>\n",
       "      <td>-0.580957</td>\n",
       "      <td>-0.432161</td>\n",
       "      <td>-0.402682</td>\n",
       "    </tr>\n",
       "    <tr>\n",
       "      <th>Ws</th>\n",
       "      <td>-0.284510</td>\n",
       "      <td>0.244048</td>\n",
       "      <td>1.000000</td>\n",
       "      <td>0.171506</td>\n",
       "      <td>-0.166548</td>\n",
       "      <td>-0.000721</td>\n",
       "      <td>0.079135</td>\n",
       "      <td>0.008532</td>\n",
       "      <td>0.031438</td>\n",
       "      <td>0.032368</td>\n",
       "      <td>-0.069964</td>\n",
       "      <td>-0.181160</td>\n",
       "    </tr>\n",
       "    <tr>\n",
       "      <th>Rain</th>\n",
       "      <td>-0.326492</td>\n",
       "      <td>0.222356</td>\n",
       "      <td>0.171506</td>\n",
       "      <td>1.000000</td>\n",
       "      <td>-0.543906</td>\n",
       "      <td>-0.288773</td>\n",
       "      <td>-0.298023</td>\n",
       "      <td>-0.347484</td>\n",
       "      <td>-0.299852</td>\n",
       "      <td>-0.324422</td>\n",
       "      <td>-0.379097</td>\n",
       "      <td>-0.040013</td>\n",
       "    </tr>\n",
       "    <tr>\n",
       "      <th>FFMC</th>\n",
       "      <td>0.676568</td>\n",
       "      <td>-0.644873</td>\n",
       "      <td>-0.166548</td>\n",
       "      <td>-0.543906</td>\n",
       "      <td>1.000000</td>\n",
       "      <td>0.603608</td>\n",
       "      <td>0.507397</td>\n",
       "      <td>0.740007</td>\n",
       "      <td>0.592011</td>\n",
       "      <td>0.691132</td>\n",
       "      <td>0.769492</td>\n",
       "      <td>0.222241</td>\n",
       "    </tr>\n",
       "    <tr>\n",
       "      <th>DMC</th>\n",
       "      <td>0.485687</td>\n",
       "      <td>-0.408519</td>\n",
       "      <td>-0.000721</td>\n",
       "      <td>-0.288773</td>\n",
       "      <td>0.603608</td>\n",
       "      <td>1.000000</td>\n",
       "      <td>0.875925</td>\n",
       "      <td>0.680454</td>\n",
       "      <td>0.982248</td>\n",
       "      <td>0.875864</td>\n",
       "      <td>0.585658</td>\n",
       "      <td>0.192089</td>\n",
       "    </tr>\n",
       "    <tr>\n",
       "      <th>DC</th>\n",
       "      <td>0.376284</td>\n",
       "      <td>-0.226941</td>\n",
       "      <td>0.079135</td>\n",
       "      <td>-0.298023</td>\n",
       "      <td>0.507397</td>\n",
       "      <td>0.875925</td>\n",
       "      <td>1.000000</td>\n",
       "      <td>0.508643</td>\n",
       "      <td>0.941988</td>\n",
       "      <td>0.739521</td>\n",
       "      <td>0.511123</td>\n",
       "      <td>-0.078734</td>\n",
       "    </tr>\n",
       "    <tr>\n",
       "      <th>ISI</th>\n",
       "      <td>0.603871</td>\n",
       "      <td>-0.686667</td>\n",
       "      <td>0.008532</td>\n",
       "      <td>-0.347484</td>\n",
       "      <td>0.740007</td>\n",
       "      <td>0.680454</td>\n",
       "      <td>0.508643</td>\n",
       "      <td>1.000000</td>\n",
       "      <td>0.644093</td>\n",
       "      <td>0.922895</td>\n",
       "      <td>0.735197</td>\n",
       "      <td>0.263197</td>\n",
       "    </tr>\n",
       "    <tr>\n",
       "      <th>BUI</th>\n",
       "      <td>0.459789</td>\n",
       "      <td>-0.353841</td>\n",
       "      <td>0.031438</td>\n",
       "      <td>-0.299852</td>\n",
       "      <td>0.592011</td>\n",
       "      <td>0.982248</td>\n",
       "      <td>0.941988</td>\n",
       "      <td>0.644093</td>\n",
       "      <td>1.000000</td>\n",
       "      <td>0.857973</td>\n",
       "      <td>0.586639</td>\n",
       "      <td>0.089408</td>\n",
       "    </tr>\n",
       "    <tr>\n",
       "      <th>FWI</th>\n",
       "      <td>0.566670</td>\n",
       "      <td>-0.580957</td>\n",
       "      <td>0.032368</td>\n",
       "      <td>-0.324422</td>\n",
       "      <td>0.691132</td>\n",
       "      <td>0.875864</td>\n",
       "      <td>0.739521</td>\n",
       "      <td>0.922895</td>\n",
       "      <td>0.857973</td>\n",
       "      <td>1.000000</td>\n",
       "      <td>0.719216</td>\n",
       "      <td>0.197102</td>\n",
       "    </tr>\n",
       "    <tr>\n",
       "      <th>Classes</th>\n",
       "      <td>0.516015</td>\n",
       "      <td>-0.432161</td>\n",
       "      <td>-0.069964</td>\n",
       "      <td>-0.379097</td>\n",
       "      <td>0.769492</td>\n",
       "      <td>0.585658</td>\n",
       "      <td>0.511123</td>\n",
       "      <td>0.735197</td>\n",
       "      <td>0.586639</td>\n",
       "      <td>0.719216</td>\n",
       "      <td>1.000000</td>\n",
       "      <td>0.162347</td>\n",
       "    </tr>\n",
       "    <tr>\n",
       "      <th>region</th>\n",
       "      <td>0.269555</td>\n",
       "      <td>-0.402682</td>\n",
       "      <td>-0.181160</td>\n",
       "      <td>-0.040013</td>\n",
       "      <td>0.222241</td>\n",
       "      <td>0.192089</td>\n",
       "      <td>-0.078734</td>\n",
       "      <td>0.263197</td>\n",
       "      <td>0.089408</td>\n",
       "      <td>0.197102</td>\n",
       "      <td>0.162347</td>\n",
       "      <td>1.000000</td>\n",
       "    </tr>\n",
       "  </tbody>\n",
       "</table>\n",
       "</div>"
      ],
      "text/plain": [
       "             Temperature        RH        Ws      Rain      FFMC       DMC  \\\n",
       "Temperature     1.000000 -0.651400 -0.284510 -0.326492  0.676568  0.485687   \n",
       "RH             -0.651400  1.000000  0.244048  0.222356 -0.644873 -0.408519   \n",
       "Ws             -0.284510  0.244048  1.000000  0.171506 -0.166548 -0.000721   \n",
       "Rain           -0.326492  0.222356  0.171506  1.000000 -0.543906 -0.288773   \n",
       "FFMC            0.676568 -0.644873 -0.166548 -0.543906  1.000000  0.603608   \n",
       "DMC             0.485687 -0.408519 -0.000721 -0.288773  0.603608  1.000000   \n",
       "DC              0.376284 -0.226941  0.079135 -0.298023  0.507397  0.875925   \n",
       "ISI             0.603871 -0.686667  0.008532 -0.347484  0.740007  0.680454   \n",
       "BUI             0.459789 -0.353841  0.031438 -0.299852  0.592011  0.982248   \n",
       "FWI             0.566670 -0.580957  0.032368 -0.324422  0.691132  0.875864   \n",
       "Classes         0.516015 -0.432161 -0.069964 -0.379097  0.769492  0.585658   \n",
       "region          0.269555 -0.402682 -0.181160 -0.040013  0.222241  0.192089   \n",
       "\n",
       "                   DC       ISI       BUI       FWI   Classes    region  \n",
       "Temperature  0.376284  0.603871  0.459789  0.566670  0.516015  0.269555  \n",
       "RH          -0.226941 -0.686667 -0.353841 -0.580957 -0.432161 -0.402682  \n",
       "Ws           0.079135  0.008532  0.031438  0.032368 -0.069964 -0.181160  \n",
       "Rain        -0.298023 -0.347484 -0.299852 -0.324422 -0.379097 -0.040013  \n",
       "FFMC         0.507397  0.740007  0.592011  0.691132  0.769492  0.222241  \n",
       "DMC          0.875925  0.680454  0.982248  0.875864  0.585658  0.192089  \n",
       "DC           1.000000  0.508643  0.941988  0.739521  0.511123 -0.078734  \n",
       "ISI          0.508643  1.000000  0.644093  0.922895  0.735197  0.263197  \n",
       "BUI          0.941988  0.644093  1.000000  0.857973  0.586639  0.089408  \n",
       "FWI          0.739521  0.922895  0.857973  1.000000  0.719216  0.197102  \n",
       "Classes      0.511123  0.735197  0.586639  0.719216  1.000000  0.162347  \n",
       "region      -0.078734  0.263197  0.089408  0.197102  0.162347  1.000000  "
      ]
     },
     "execution_count": 33,
     "metadata": {},
     "output_type": "execute_result"
    }
   ],
   "source": [
    "df.corr()"
   ]
  },
  {
   "cell_type": "code",
   "execution_count": 34,
   "id": "55da3f48",
   "metadata": {},
   "outputs": [],
   "source": [
    "df.drop(['BUI', 'DC'],axis=1,inplace=True)"
   ]
  },
  {
   "cell_type": "code",
   "execution_count": 35,
   "id": "ea1790f9",
   "metadata": {},
   "outputs": [
    {
     "data": {
      "text/plain": [
       "(243, 10)"
      ]
     },
     "execution_count": 35,
     "metadata": {},
     "output_type": "execute_result"
    }
   ],
   "source": [
    "df.shape"
   ]
  },
  {
   "cell_type": "code",
   "execution_count": null,
   "id": "56e30b37",
   "metadata": {},
   "outputs": [],
   "source": []
  },
  {
   "cell_type": "code",
   "execution_count": 36,
   "id": "4c8aac09",
   "metadata": {},
   "outputs": [],
   "source": [
    "X=df.drop(\"FWI\",axis=1)"
   ]
  },
  {
   "cell_type": "code",
   "execution_count": 38,
   "id": "ecd868b4",
   "metadata": {},
   "outputs": [
    {
     "data": {
      "text/plain": [
       "(243, 9)"
      ]
     },
     "execution_count": 38,
     "metadata": {},
     "output_type": "execute_result"
    }
   ],
   "source": [
    "X.shape"
   ]
  },
  {
   "cell_type": "code",
   "execution_count": 37,
   "id": "c4d79a08",
   "metadata": {},
   "outputs": [],
   "source": [
    "y=df[\"FWI\"]"
   ]
  },
  {
   "cell_type": "code",
   "execution_count": 39,
   "id": "5d0c6363",
   "metadata": {},
   "outputs": [
    {
     "data": {
      "text/plain": [
       "(243,)"
      ]
     },
     "execution_count": 39,
     "metadata": {},
     "output_type": "execute_result"
    }
   ],
   "source": [
    "y.shape"
   ]
  },
  {
   "cell_type": "code",
   "execution_count": 40,
   "id": "2665d05a",
   "metadata": {},
   "outputs": [],
   "source": [
    "from sklearn.model_selection import train_test_split\n",
    "\n",
    "X_train,X_test,y_train,y_test=train_test_split(X,y,test_size=0.30,random_state=42)"
   ]
  },
  {
   "cell_type": "code",
   "execution_count": 41,
   "id": "0a9b9a7f",
   "metadata": {},
   "outputs": [
    {
     "data": {
      "text/plain": [
       "((170, 9), (73, 9))"
      ]
     },
     "execution_count": 41,
     "metadata": {},
     "output_type": "execute_result"
    }
   ],
   "source": [
    "X_train.shape, X_test.shape"
   ]
  },
  {
   "cell_type": "code",
   "execution_count": null,
   "id": "d4e77153",
   "metadata": {},
   "outputs": [],
   "source": []
  },
  {
   "cell_type": "code",
   "execution_count": 42,
   "id": "6ee3f836",
   "metadata": {},
   "outputs": [],
   "source": [
    "from sklearn.preprocessing import StandardScaler\n",
    "sc=StandardScaler()"
   ]
  },
  {
   "cell_type": "code",
   "execution_count": 43,
   "id": "9ddf2d29",
   "metadata": {},
   "outputs": [],
   "source": [
    "X_train_scaled=sc.fit_transform(X_train)\n",
    "X_test_scaled=sc.transform(X_test)"
   ]
  },
  {
   "cell_type": "code",
   "execution_count": null,
   "id": "fc7c2ed3",
   "metadata": {},
   "outputs": [],
   "source": []
  },
  {
   "cell_type": "code",
   "execution_count": 48,
   "id": "83f444de",
   "metadata": {},
   "outputs": [
    {
     "data": {
      "text/plain": [
       "Text(0.5, 1.0, 'X-train after scalin')"
      ]
     },
     "execution_count": 48,
     "metadata": {},
     "output_type": "execute_result"
    },
    {
     "data": {
      "image/png": "[encoded data removed]",
      "text/plain": [
       "<Figure size 1800x1080 with 2 Axes>"
      ]
     },
     "metadata": {
      "needs_background": "light"
     },
     "output_type": "display_data"
    }
   ],
   "source": [
    "plt.figure(figsize=(25,15))\n",
    "plt.subplot(2,2,1)\n",
    "sns.boxplot(data=X_train)\n",
    "plt.title(\"X-train before scalin\")\n",
    "plt.subplot(2,2,2)\n",
    "sns.boxplot(data=X_train_scaled)\n",
    "plt.title(\"X-train after scalin\")"
   ]
  },
  {
   "cell_type": "code",
   "execution_count": null,
   "id": "7544abd7",
   "metadata": {},
   "outputs": [],
   "source": []
  },
  {
   "cell_type": "markdown",
   "id": "f5d7729b",
   "metadata": {},
   "source": [
    "# Linear Regresssion"
   ]
  },
  {
   "cell_type": "code",
   "execution_count": 50,
   "id": "5623b25a",
   "metadata": {},
   "outputs": [
    {
     "name": "stdout",
     "output_type": "stream",
     "text": [
      "0.6829306792403725 0.9839004057095255\n"
     ]
    }
   ],
   "source": [
    "from sklearn.linear_model import LinearRegression\n",
    "linre=LinearRegression()\n",
    "linre.fit(X_train_scaled,y_train)\n",
    "y_pred=linre.predict(X_test_scaled)\n",
    "from sklearn.metrics import r2_score,mean_squared_error\n",
    "\n",
    "mse = mean_squared_error(y_pred,y_test)\n",
    "score=r2_score(y_pred,y_test)\n",
    "\n",
    "print(mse,score)"
   ]
  },
  {
   "cell_type": "code",
   "execution_count": null,
   "id": "138709e6",
   "metadata": {},
   "outputs": [],
   "source": []
  },
  {
   "cell_type": "markdown",
   "id": "46910848",
   "metadata": {},
   "source": [
    "# Ridge Regression"
   ]
  },
  {
   "cell_type": "code",
   "execution_count": 51,
   "id": "63579f9f",
   "metadata": {},
   "outputs": [
    {
     "ename": "TypeError",
     "evalue": "solve() got an unexpected keyword argument 'sym_pos'",
     "output_type": "error",
     "traceback": [
      "\u001b[1;31m---------------------------------------------------------------------------\u001b[0m",
      "\u001b[1;31mTypeError\u001b[0m                                 Traceback (most recent call last)",
      "Input \u001b[1;32mIn [51]\u001b[0m, in \u001b[0;36m<cell line: 3>\u001b[1;34m()\u001b[0m\n\u001b[0;32m      1\u001b[0m \u001b[38;5;28;01mfrom\u001b[39;00m \u001b[38;5;21;01msklearn\u001b[39;00m\u001b[38;5;21;01m.\u001b[39;00m\u001b[38;5;21;01mlinear_model\u001b[39;00m \u001b[38;5;28;01mimport\u001b[39;00m Ridge\n\u001b[0;32m      2\u001b[0m rid\u001b[38;5;241m=\u001b[39mRidge()\n\u001b[1;32m----> 3\u001b[0m \u001b[43mrid\u001b[49m\u001b[38;5;241;43m.\u001b[39;49m\u001b[43mfit\u001b[49m\u001b[43m(\u001b[49m\u001b[43mX_train_scaled\u001b[49m\u001b[43m,\u001b[49m\u001b[43my_train\u001b[49m\u001b[43m)\u001b[49m\n\u001b[0;32m      4\u001b[0m y_pred\u001b[38;5;241m=\u001b[39mrid\u001b[38;5;241m.\u001b[39mpredict(X_test_scaled)\n\u001b[0;32m      5\u001b[0m \u001b[38;5;28;01mfrom\u001b[39;00m \u001b[38;5;21;01msklearn\u001b[39;00m\u001b[38;5;21;01m.\u001b[39;00m\u001b[38;5;21;01mmetrics\u001b[39;00m \u001b[38;5;28;01mimport\u001b[39;00m r2_score,mean_squared_error\n",
      "File \u001b[1;32m~\\anaconda3\\lib\\site-packages\\sklearn\\linear_model\\_ridge.py:1011\u001b[0m, in \u001b[0;36mRidge.fit\u001b[1;34m(self, X, y, sample_weight)\u001b[0m\n\u001b[0;32m   1002\u001b[0m _accept_sparse \u001b[38;5;241m=\u001b[39m _get_valid_accept_sparse(sparse\u001b[38;5;241m.\u001b[39missparse(X), \u001b[38;5;28mself\u001b[39m\u001b[38;5;241m.\u001b[39msolver)\n\u001b[0;32m   1003\u001b[0m X, y \u001b[38;5;241m=\u001b[39m \u001b[38;5;28mself\u001b[39m\u001b[38;5;241m.\u001b[39m_validate_data(\n\u001b[0;32m   1004\u001b[0m     X,\n\u001b[0;32m   1005\u001b[0m     y,\n\u001b[1;32m   (...)\u001b[0m\n\u001b[0;32m   1009\u001b[0m     y_numeric\u001b[38;5;241m=\u001b[39m\u001b[38;5;28;01mTrue\u001b[39;00m,\n\u001b[0;32m   1010\u001b[0m )\n\u001b[1;32m-> 1011\u001b[0m \u001b[38;5;28;01mreturn\u001b[39;00m \u001b[38;5;28;43msuper\u001b[39;49m\u001b[43m(\u001b[49m\u001b[43m)\u001b[49m\u001b[38;5;241;43m.\u001b[39;49m\u001b[43mfit\u001b[49m\u001b[43m(\u001b[49m\u001b[43mX\u001b[49m\u001b[43m,\u001b[49m\u001b[43m \u001b[49m\u001b[43my\u001b[49m\u001b[43m,\u001b[49m\u001b[43m \u001b[49m\u001b[43msample_weight\u001b[49m\u001b[38;5;241;43m=\u001b[39;49m\u001b[43msample_weight\u001b[49m\u001b[43m)\u001b[49m\n",
      "File \u001b[1;32m~\\anaconda3\\lib\\site-packages\\sklearn\\linear_model\\_ridge.py:782\u001b[0m, in \u001b[0;36m_BaseRidge.fit\u001b[1;34m(self, X, y, sample_weight)\u001b[0m\n\u001b[0;32m    778\u001b[0m     \u001b[38;5;28;01melse\u001b[39;00m:\n\u001b[0;32m    779\u001b[0m         \u001b[38;5;66;03m# for dense matrices or when intercept is set to 0\u001b[39;00m\n\u001b[0;32m    780\u001b[0m         params \u001b[38;5;241m=\u001b[39m {}\n\u001b[1;32m--> 782\u001b[0m     \u001b[38;5;28mself\u001b[39m\u001b[38;5;241m.\u001b[39mcoef_, \u001b[38;5;28mself\u001b[39m\u001b[38;5;241m.\u001b[39mn_iter_ \u001b[38;5;241m=\u001b[39m _ridge_regression(\n\u001b[0;32m    783\u001b[0m         X,\n\u001b[0;32m    784\u001b[0m         y,\n\u001b[0;32m    785\u001b[0m         alpha\u001b[38;5;241m=\u001b[39m\u001b[38;5;28mself\u001b[39m\u001b[38;5;241m.\u001b[39malpha,\n\u001b[0;32m    786\u001b[0m         sample_weight\u001b[38;5;241m=\u001b[39msample_weight,\n\u001b[0;32m    787\u001b[0m         max_iter\u001b[38;5;241m=\u001b[39m\u001b[38;5;28mself\u001b[39m\u001b[38;5;241m.\u001b[39mmax_iter,\n\u001b[0;32m    788\u001b[0m         tol\u001b[38;5;241m=\u001b[39m\u001b[38;5;28mself\u001b[39m\u001b[38;5;241m.\u001b[39mtol,\n\u001b[0;32m    789\u001b[0m         solver\u001b[38;5;241m=\u001b[39msolver,\n\u001b[0;32m    790\u001b[0m         positive\u001b[38;5;241m=\u001b[39m\u001b[38;5;28mself\u001b[39m\u001b[38;5;241m.\u001b[39mpositive,\n\u001b[0;32m    791\u001b[0m         random_state\u001b[38;5;241m=\u001b[39m\u001b[38;5;28mself\u001b[39m\u001b[38;5;241m.\u001b[39mrandom_state,\n\u001b[0;32m    792\u001b[0m         return_n_iter\u001b[38;5;241m=\u001b[39m\u001b[38;5;28;01mTrue\u001b[39;00m,\n\u001b[0;32m    793\u001b[0m         return_intercept\u001b[38;5;241m=\u001b[39m\u001b[38;5;28;01mFalse\u001b[39;00m,\n\u001b[0;32m    794\u001b[0m         check_input\u001b[38;5;241m=\u001b[39m\u001b[38;5;28;01mFalse\u001b[39;00m,\n\u001b[0;32m    795\u001b[0m         \u001b[38;5;241m*\u001b[39m\u001b[38;5;241m*\u001b[39mparams,\n\u001b[0;32m    796\u001b[0m     )\n\u001b[0;32m    797\u001b[0m     \u001b[38;5;28mself\u001b[39m\u001b[38;5;241m.\u001b[39m_set_intercept(X_offset, y_offset, X_scale)\n\u001b[0;32m    799\u001b[0m \u001b[38;5;28;01mreturn\u001b[39;00m \u001b[38;5;28mself\u001b[39m\n",
      "File \u001b[1;32m~\\anaconda3\\lib\\site-packages\\sklearn\\linear_model\\_ridge.py:599\u001b[0m, in \u001b[0;36m_ridge_regression\u001b[1;34m(X, y, alpha, sample_weight, solver, max_iter, tol, verbose, positive, random_state, return_n_iter, return_intercept, X_scale, X_offset, check_input)\u001b[0m\n\u001b[0;32m    597\u001b[0m \u001b[38;5;28;01melse\u001b[39;00m:\n\u001b[0;32m    598\u001b[0m     \u001b[38;5;28;01mtry\u001b[39;00m:\n\u001b[1;32m--> 599\u001b[0m         coef \u001b[38;5;241m=\u001b[39m \u001b[43m_solve_cholesky\u001b[49m\u001b[43m(\u001b[49m\u001b[43mX\u001b[49m\u001b[43m,\u001b[49m\u001b[43m \u001b[49m\u001b[43my\u001b[49m\u001b[43m,\u001b[49m\u001b[43m \u001b[49m\u001b[43malpha\u001b[49m\u001b[43m)\u001b[49m\n\u001b[0;32m    600\u001b[0m     \u001b[38;5;28;01mexcept\u001b[39;00m linalg\u001b[38;5;241m.\u001b[39mLinAlgError:\n\u001b[0;32m    601\u001b[0m         \u001b[38;5;66;03m# use SVD solver if matrix is singular\u001b[39;00m\n\u001b[0;32m    602\u001b[0m         solver \u001b[38;5;241m=\u001b[39m \u001b[38;5;124m\"\u001b[39m\u001b[38;5;124msvd\u001b[39m\u001b[38;5;124m\"\u001b[39m\n",
      "File \u001b[1;32m~\\anaconda3\\lib\\site-packages\\sklearn\\linear_model\\_ridge.py:157\u001b[0m, in \u001b[0;36m_solve_cholesky\u001b[1;34m(X, y, alpha)\u001b[0m\n\u001b[0;32m    155\u001b[0m \u001b[38;5;28;01mif\u001b[39;00m one_alpha:\n\u001b[0;32m    156\u001b[0m     A\u001b[38;5;241m.\u001b[39mflat[:: n_features \u001b[38;5;241m+\u001b[39m \u001b[38;5;241m1\u001b[39m] \u001b[38;5;241m+\u001b[39m\u001b[38;5;241m=\u001b[39m alpha[\u001b[38;5;241m0\u001b[39m]\n\u001b[1;32m--> 157\u001b[0m     \u001b[38;5;28;01mreturn\u001b[39;00m \u001b[43mlinalg\u001b[49m\u001b[38;5;241;43m.\u001b[39;49m\u001b[43msolve\u001b[49m\u001b[43m(\u001b[49m\u001b[43mA\u001b[49m\u001b[43m,\u001b[49m\u001b[43m \u001b[49m\u001b[43mXy\u001b[49m\u001b[43m,\u001b[49m\u001b[43m \u001b[49m\u001b[43msym_pos\u001b[49m\u001b[38;5;241;43m=\u001b[39;49m\u001b[38;5;28;43;01mTrue\u001b[39;49;00m\u001b[43m,\u001b[49m\u001b[43m \u001b[49m\u001b[43moverwrite_a\u001b[49m\u001b[38;5;241;43m=\u001b[39;49m\u001b[38;5;28;43;01mTrue\u001b[39;49;00m\u001b[43m)\u001b[49m\u001b[38;5;241m.\u001b[39mT\n\u001b[0;32m    158\u001b[0m \u001b[38;5;28;01melse\u001b[39;00m:\n\u001b[0;32m    159\u001b[0m     coefs \u001b[38;5;241m=\u001b[39m np\u001b[38;5;241m.\u001b[39mempty([n_targets, n_features], dtype\u001b[38;5;241m=\u001b[39mX\u001b[38;5;241m.\u001b[39mdtype)\n",
      "\u001b[1;31mTypeError\u001b[0m: solve() got an unexpected keyword argument 'sym_pos'"
     ]
    }
   ],
   "source": [
    "from sklearn.linear_model import Ridge\n",
    "rid=Ridge()\n",
    "rid.fit(X_train_scaled,y_train)\n",
    "y_pred=rid.predict(X_test_scaled)\n",
    "from sklearn.metrics import r2_score,mean_squared_error\n",
    "\n",
    "mse = mean_squared_error(y_pred,y_test)\n",
    "score=r2_score(y_pred,y_test)\n",
    "\n",
    "print(mse,score)"
   ]
  },
  {
   "cell_type": "markdown",
   "id": "d60e4d3f",
   "metadata": {},
   "source": [
    "# Lasso"
   ]
  },
  {
   "cell_type": "code",
   "execution_count": 52,
   "id": "1adacb9f",
   "metadata": {},
   "outputs": [
    {
     "name": "stdout",
     "output_type": "stream",
     "text": [
      "2.184026766573451 0.9298380301537672\n"
     ]
    }
   ],
   "source": [
    "from sklearn.linear_model import Lasso\n",
    "Lass=Lasso()\n",
    "Lass.fit(X_train_scaled,y_train)\n",
    "y_pred=Lass.predict(X_test_scaled)\n",
    "from sklearn.metrics import r2_score,mean_squared_error\n",
    "\n",
    "mse = mean_squared_error(y_pred,y_test)\n",
    "score=r2_score(y_pred,y_test)\n",
    "\n",
    "print(mse,score)"
   ]
  },
  {
   "cell_type": "code",
   "execution_count": null,
   "id": "f1b6a919",
   "metadata": {},
   "outputs": [],
   "source": []
  },
  {
   "cell_type": "markdown",
   "id": "06a8d0ab",
   "metadata": {},
   "source": [
    "# EllasticNet"
   ]
  },
  {
   "cell_type": "code",
   "execution_count": 53,
   "id": "4fd35226",
   "metadata": {},
   "outputs": [
    {
     "name": "stdout",
     "output_type": "stream",
     "text": [
      "5.345346375670644 0.7943816956032856\n"
     ]
    }
   ],
   "source": [
    "from sklearn.linear_model import ElasticNet\n",
    "es=ElasticNet()\n",
    "es.fit(X_train_scaled,y_train)\n",
    "y_pred=es.predict(X_test_scaled)\n",
    "from sklearn.metrics import r2_score,mean_squared_error\n",
    "\n",
    "mse = mean_squared_error(y_pred,y_test)\n",
    "score=r2_score(y_pred,y_test)\n",
    "\n",
    "print(mse,score)"
   ]
  },
  {
   "cell_type": "code",
   "execution_count": null,
   "id": "609b21d3",
   "metadata": {},
   "outputs": [],
   "source": []
  },
  {
   "cell_type": "markdown",
   "id": "95eeaa0a",
   "metadata": {},
   "source": [
    "# LassoCV Regression"
   ]
  },
  {
   "cell_type": "code",
   "execution_count": 54,
   "id": "0d448918",
   "metadata": {},
   "outputs": [],
   "source": [
    "from sklearn.linear_model import LassoCV\n",
    "la=LassoCV(cv=5)\n",
    "la.fit(X_train_scaled,y_train)\n",
    "y_pred=la.predict(X_test_scaled)"
   ]
  },
  {
   "cell_type": "code",
   "execution_count": 55,
   "id": "d0fda590",
   "metadata": {},
   "outputs": [
    {
     "name": "stdout",
     "output_type": "stream",
     "text": [
      "0.7972605196410516 0.9808921129263425\n"
     ]
    },
    {
     "data": {
      "text/plain": [
       "<matplotlib.collections.PathCollection at 0x1b2358f0220>"
      ]
     },
     "execution_count": 55,
     "metadata": {},
     "output_type": "execute_result"
    },
    {
     "data": {
      "image/png": "[encoded data removed]",
      "text/plain": [
       "<Figure size 432x288 with 1 Axes>"
      ]
     },
     "metadata": {
      "needs_background": "light"
     },
     "output_type": "display_data"
    }
   ],
   "source": [
    "from sklearn.metrics import r2_score,mean_squared_error\n",
    "\n",
    "mse = mean_squared_error(y_pred,y_test)\n",
    "score=r2_score(y_pred,y_test)\n",
    "\n",
    "print(mse,score)\n",
    "\n",
    "plt.scatter(y_pred,y_test)"
   ]
  },
  {
   "cell_type": "code",
   "execution_count": 56,
   "id": "8657a223",
   "metadata": {},
   "outputs": [
    {
     "data": {
      "text/plain": [
       "0.06177603120682054"
      ]
     },
     "execution_count": 56,
     "metadata": {},
     "output_type": "execute_result"
    }
   ],
   "source": [
    "la.alpha_"
   ]
  },
  {
   "cell_type": "code",
   "execution_count": 58,
   "id": "38c23c27",
   "metadata": {},
   "outputs": [
    {
     "data": {
      "text/plain": [
       "{'alphas': None,\n",
       " 'copy_X': True,\n",
       " 'cv': 5,\n",
       " 'eps': 0.001,\n",
       " 'fit_intercept': True,\n",
       " 'max_iter': 1000,\n",
       " 'n_alphas': 100,\n",
       " 'n_jobs': None,\n",
       " 'normalize': 'deprecated',\n",
       " 'positive': False,\n",
       " 'precompute': 'auto',\n",
       " 'random_state': None,\n",
       " 'selection': 'cyclic',\n",
       " 'tol': 0.0001,\n",
       " 'verbose': False}"
      ]
     },
     "execution_count": 58,
     "metadata": {},
     "output_type": "execute_result"
    }
   ],
   "source": [
    "la.get_params()"
   ]
  },
  {
   "cell_type": "code",
   "execution_count": 60,
   "id": "5dadb1d8",
   "metadata": {},
   "outputs": [
    {
     "data": {
      "text/plain": [
       "array([7.1027424 , 6.62404134, 6.17760312, 5.76125335, 5.37296415,\n",
       "       5.01084435, 4.67313021, 4.35817688, 4.06445034, 3.79051999,\n",
       "       3.53505163, 3.29680098, 3.07460763, 2.86738937, 2.67413692,\n",
       "       2.49390904, 2.32582792, 2.1690749 , 2.02288651, 1.88655073,\n",
       "       1.75940353, 1.64082562, 1.53023946, 1.42710644, 1.33092425,\n",
       "       1.24122441, 1.15757004, 1.07955369, 1.00679538, 0.93894074,\n",
       "       0.87565928, 0.81664278, 0.76160379, 0.71027424, 0.66240413,\n",
       "       0.61776031, 0.57612533, 0.53729642, 0.50108444, 0.46731302,\n",
       "       0.43581769, 0.40644503, 0.379052  , 0.35350516, 0.3296801 ,\n",
       "       0.30746076, 0.28673894, 0.26741369, 0.2493909 , 0.23258279,\n",
       "       0.21690749, 0.20228865, 0.18865507, 0.17594035, 0.16408256,\n",
       "       0.15302395, 0.14271064, 0.13309242, 0.12412244, 0.115757  ,\n",
       "       0.10795537, 0.10067954, 0.09389407, 0.08756593, 0.08166428,\n",
       "       0.07616038, 0.07102742, 0.06624041, 0.06177603, 0.05761253,\n",
       "       0.05372964, 0.05010844, 0.0467313 , 0.04358177, 0.0406445 ,\n",
       "       0.0379052 , 0.03535052, 0.03296801, 0.03074608, 0.02867389,\n",
       "       0.02674137, 0.02493909, 0.02325828, 0.02169075, 0.02022887,\n",
       "       0.01886551, 0.01759404, 0.01640826, 0.01530239, 0.01427106,\n",
       "       0.01330924, 0.01241224, 0.0115757 , 0.01079554, 0.01006795,\n",
       "       0.00938941, 0.00875659, 0.00816643, 0.00761604, 0.00710274])"
      ]
     },
     "execution_count": 60,
     "metadata": {},
     "output_type": "execute_result"
    }
   ],
   "source": [
    "la.alphas_"
   ]
  },
  {
   "cell_type": "code",
   "execution_count": 61,
   "id": "313e9451",
   "metadata": {},
   "outputs": [
    {
     "data": {
      "text/plain": [
       "array([[50.65386968, 76.54197718, 42.60540011, 85.19903601, 37.22447771],\n",
       "       [44.75111814, 74.82132255, 38.341692  , 85.19903601, 33.05643554],\n",
       "       [39.36934038, 67.35349762, 32.91718118, 77.16947646, 28.98441557],\n",
       "       [34.66809152, 60.76849885, 28.30179163, 70.00628728, 25.07891899],\n",
       "       [30.56005987, 54.39656706, 24.38332378, 63.69553448, 21.70030699],\n",
       "       [26.96916466, 47.86216351, 21.06462063, 58.13161794, 18.77862509],\n",
       "       [23.82945553, 42.15575307, 18.26138649, 53.22232605, 16.25301222],\n",
       "       [21.08318369, 37.17090521, 15.90095328, 46.89293347, 14.07124316],\n",
       "       [18.68014904, 32.81473426, 13.92043855, 41.32635877, 12.18732916],\n",
       "       [16.57661964, 29.00744813, 12.26540003, 36.4658746 , 10.56155236],\n",
       "       [14.73438066, 25.67846082, 10.88893934, 32.22081976,  9.15943046],\n",
       "       [13.12047322, 22.76665973,  9.75047302, 28.5122238 ,  7.95103045],\n",
       "       [11.70583482, 20.21881242,  8.81511714, 25.27132199,  6.9102242 ],\n",
       "       [10.46524798, 17.98854548,  8.05270156, 22.43755884,  6.01478795],\n",
       "       [ 9.3767302 , 16.03510498,  7.43725597, 19.96021847,  5.24498166],\n",
       "       [ 8.42111585, 14.32403577,  6.94642496, 17.79310065,  4.58383524],\n",
       "       [ 7.58169241, 12.82425291,  6.56076348, 15.89663692,  4.01663006],\n",
       "       [ 6.84378852, 11.50901635,  6.26417786, 14.23635715,  3.53060271],\n",
       "       [ 6.19489185, 10.35501678,  6.04228232, 12.78222819,  3.11468778],\n",
       "       [ 5.62379959,  9.34193186,  5.88291763, 11.50807956,  2.75923473],\n",
       "       [ 5.12083007,  8.4520405 ,  5.77567262, 10.39110361,  2.45606851],\n",
       "       [ 4.6775323 ,  7.66988713,  5.71164494,  9.41101171,  2.19791083],\n",
       "       [ 4.28652763,  6.98198949,  5.68282488,  8.55134909,  1.97852702],\n",
       "       [ 3.94137191,  6.37637486,  5.68356125,  7.79653235,  1.79251976],\n",
       "       [ 3.63643564,  5.84322598,  5.70793084,  7.13338426,  1.63521811],\n",
       "       [ 3.3667288 ,  5.37333938,  5.75125449,  6.55041287,  1.50258134],\n",
       "       [ 3.12810133,  4.95889114,  5.80957204,  6.03759288,  1.39111535],\n",
       "       [ 2.91671292,  4.59304889,  5.87953968,  5.58617663,  1.29780014],\n",
       "       [ 2.7292744 ,  4.269844  ,  5.95834284,  5.18852959,  1.22006541],\n",
       "       [ 2.56290779,  3.98406084,  6.04304011,  4.83776003,  1.15558641],\n",
       "       [ 2.41509369,  3.73114033,  6.13284358,  4.52853764,  1.10245117],\n",
       "       [ 2.2836257 ,  3.50709599,  6.22551676,  4.25551426,  1.05898386],\n",
       "       [ 2.16657063,  3.30844077,  6.31969998,  4.01424839,  1.02374009],\n",
       "       [ 2.06223389,  3.13212334,  6.41428122,  3.80085995,  0.99547607],\n",
       "       [ 1.96912929,  2.975395  ,  6.50835501,  3.61195699,  0.97312165],\n",
       "       [ 1.88591176,  2.83608443,  6.60119138,  3.44457322,  0.95575694],\n",
       "       [ 1.81152305,  2.71205029,  6.69220907,  3.29611371,  0.94259196],\n",
       "       [ 1.7449114 ,  2.60149572,  6.78025841,  3.1643075 ,  0.93305331],\n",
       "       [ 1.6851924 ,  2.50284535,  6.86640694,  3.04716636,  0.92635079],\n",
       "       [ 1.63158848,  2.41471684,  6.94968077,  2.94288818,  0.92209123],\n",
       "       [ 1.58341525,  2.33589657,  7.02988293,  2.85008221,  0.91985177],\n",
       "       [ 1.54006992,  2.26531843,  7.10688936,  2.76733453,  0.91927054],\n",
       "       [ 1.50102114,  2.2020453 ,  7.18062765,  2.6934711 ,  0.92003946],\n",
       "       [ 1.46580022,  2.14525292,  7.25106772,  2.62746236,  0.92189678],\n",
       "       [ 1.43399338,  2.09146032,  7.31821416,  2.57171983,  0.92462063],\n",
       "       [ 1.40523503,  2.04155418,  7.38131969,  2.52326974,  0.92802343],\n",
       "       [ 1.37076952,  1.99831894,  7.44202559,  2.47995369,  0.93194709],\n",
       "       [ 1.33072547,  1.96088078,  7.48954928,  2.44113376,  0.92065028],\n",
       "       [ 1.29537536,  1.92847417,  7.51739731,  2.4063046 ,  0.90680996],\n",
       "       [ 1.26413   ,  1.90043536,  7.54475786,  2.37501833,  0.89516176],\n",
       "       [ 1.23652857,  1.87618277,  7.57123268,  2.34648662,  0.88556688],\n",
       "       [ 1.21210634,  1.85521422,  7.59675295,  2.30686615,  0.87913838],\n",
       "       [ 1.19047711,  1.83709352,  7.62047378,  2.25026018,  0.87827158],\n",
       "       [ 1.17130323,  1.82144187,  7.67521009,  2.19914643,  0.87828243],\n",
       "       [ 1.15428928,  1.80793034,  7.73423162,  2.15313423,  0.87898787],\n",
       "       [ 1.13917667,  1.79711699,  7.79331311,  2.1116616 ,  0.8802503 ],\n",
       "       [ 1.12573897,  1.78833991,  7.85180451,  2.0741414 ,  0.88195343],\n",
       "       [ 1.11377779,  1.78091413,  7.90930472,  2.0404345 ,  0.88399907],\n",
       "       [ 1.10311927,  1.77464066,  7.96549618,  2.01158697,  0.88684576],\n",
       "       [ 1.08880522,  1.76935739,  8.02013278,  1.98748924,  0.89031494],\n",
       "       [ 1.06171393,  1.75144143,  8.07193416,  1.96260932,  0.8830618 ],\n",
       "       [ 1.03759698,  1.72505717,  8.12302787,  1.92370629,  0.86024755],\n",
       "       [ 1.01602844,  1.70105768,  8.17214206,  1.88944038,  0.84087925],\n",
       "       [ 0.99517851,  1.67980084,  8.21922395,  1.85874043,  0.82405265],\n",
       "       [ 0.9709098 ,  1.66068275,  8.26424417,  1.83175149,  0.80957379],\n",
       "       [ 0.94951972,  1.64347143,  8.30719688,  1.8077493 ,  0.79707154],\n",
       "       [ 0.93038547,  1.62795778,  8.34809553,  1.78638214,  0.78627821],\n",
       "       [ 0.91342363,  1.61395735,  8.38639903,  1.76733991,  0.77914977],\n",
       "       [ 0.89827197,  1.60226413,  8.43348948,  1.75034908,  0.77446166],\n",
       "       [ 0.88520125,  1.59248487,  8.47784684,  1.73513069,  0.77059481],\n",
       "       [ 0.8736529 ,  1.58378582,  8.51856428,  1.72146466,  0.76779725],\n",
       "       [ 0.86349975,  1.57604055,  8.55826482,  1.70901167,  0.76570751],\n",
       "       [ 0.85456938,  1.56913717,  8.59544711,  1.69793893,  0.7639983 ],\n",
       "       [ 0.84663426,  1.56281003,  8.63115885,  1.68818421,  0.7630068 ],\n",
       "       [ 0.83971606,  1.55731942,  8.65816061,  1.67947256,  0.76242516],\n",
       "       [ 0.83361019,  1.55240766,  8.68135507,  1.67177643,  0.76197344],\n",
       "       [ 0.82832294,  1.54783162,  8.70321124,  1.66490768,  0.7620127 ],\n",
       "       [ 0.82374183,  1.54390185,  8.7235485 ,  1.65880612,  0.76227784],\n",
       "       [ 0.81968665,  1.54037476,  8.74268312,  1.6533824 ,  0.76252423],\n",
       "       [ 0.81610083,  1.53702335,  8.76067844,  1.64854233,  0.76311259],\n",
       "       [ 0.81300023,  1.53533184,  8.77805748,  1.64421636,  0.76362311],\n",
       "       [ 0.81027315,  1.53438102,  8.79461584,  1.64032742,  0.76440693],\n",
       "       [ 0.80786027,  1.53344536,  8.80984915,  1.63737598,  0.76507968],\n",
       "       [ 0.80572404,  1.53288388,  8.82390249,  1.63586523,  0.76563159],\n",
       "       [ 0.80377027,  1.53224229,  8.83707918,  1.63452006,  0.76682757],\n",
       "       [ 0.80218203,  1.53193327,  8.84854818,  1.63350829,  0.76754218],\n",
       "       [ 0.80092858,  1.53150574,  8.85922632,  1.63258469,  0.76840181],\n",
       "       [ 0.80009599,  1.53136684,  8.86999195,  1.63185912,  0.7697855 ],\n",
       "       [ 0.79949966,  1.53141151,  8.87984323,  1.63128466,  0.77082697],\n",
       "       [ 0.79903781,  1.53110813,  8.88904904,  1.63092641,  0.77222413],\n",
       "       [ 0.79861021,  1.53078192,  8.89719625,  1.63055457,  0.77339749],\n",
       "       [ 0.79833283,  1.53054503,  8.90560663,  1.63028882,  0.77458874],\n",
       "       [ 0.79815844,  1.53026491,  8.91327929,  1.63019496,  0.77564779],\n",
       "       [ 0.79805036,  1.53010629,  8.92040109,  1.63005078,  0.77672312],\n",
       "       [ 0.79792922,  1.53004243,  8.9264424 ,  1.6299635 ,  0.77782672],\n",
       "       [ 0.79789083,  1.52993482,  8.93296991,  1.63001308,  0.77929638],\n",
       "       [ 0.79791759,  1.52987779,  8.93895474,  1.63000716,  0.78111929],\n",
       "       [ 0.79797711,  1.52990506,  8.94368525,  1.63001623,  0.78291664],\n",
       "       [ 0.7980025 ,  1.52996281,  8.94979623,  1.6300602 ,  0.78462392],\n",
       "       [ 0.79806724,  1.52998141,  8.9538618 ,  1.63019408,  0.78608403]])"
      ]
     },
     "execution_count": 61,
     "metadata": {},
     "output_type": "execute_result"
    }
   ],
   "source": [
    "la.mse_path_"
   ]
  },
  {
   "cell_type": "code",
   "execution_count": null,
   "id": "086d449f",
   "metadata": {},
   "outputs": [],
   "source": []
  },
  {
   "cell_type": "markdown",
   "id": "2d2afbd8",
   "metadata": {},
   "source": [
    "# RidgeCV Regression"
   ]
  },
  {
   "cell_type": "code",
   "execution_count": null,
   "id": "8bcb75a7",
   "metadata": {},
   "outputs": [],
   "source": []
  },
  {
   "cell_type": "code",
   "execution_count": 62,
   "id": "46d35c54",
   "metadata": {},
   "outputs": [
    {
     "name": "stderr",
     "output_type": "stream",
     "text": [
      "C:\\Users\\dell\\anaconda3\\lib\\site-packages\\sklearn\\model_selection\\_validation.py:372: FitFailedWarning: \n",
      "15 fits failed out of a total of 15.\n",
      "The score on these train-test partitions for these parameters will be set to nan.\n",
      "If these failures are not expected, you can try to debug them by setting error_score='raise'.\n",
      "\n",
      "Below are more details about the failures:\n",
      "--------------------------------------------------------------------------------\n",
      "15 fits failed with the following error:\n",
      "Traceback (most recent call last):\n",
      "  File \"C:\\Users\\dell\\anaconda3\\lib\\site-packages\\sklearn\\model_selection\\_validation.py\", line 680, in _fit_and_score\n",
      "    estimator.fit(X_train, y_train, **fit_params)\n",
      "  File \"C:\\Users\\dell\\anaconda3\\lib\\site-packages\\sklearn\\linear_model\\_ridge.py\", line 1011, in fit\n",
      "    return super().fit(X, y, sample_weight=sample_weight)\n",
      "  File \"C:\\Users\\dell\\anaconda3\\lib\\site-packages\\sklearn\\linear_model\\_ridge.py\", line 782, in fit\n",
      "    self.coef_, self.n_iter_ = _ridge_regression(\n",
      "  File \"C:\\Users\\dell\\anaconda3\\lib\\site-packages\\sklearn\\linear_model\\_ridge.py\", line 599, in _ridge_regression\n",
      "    coef = _solve_cholesky(X, y, alpha)\n",
      "  File \"C:\\Users\\dell\\anaconda3\\lib\\site-packages\\sklearn\\linear_model\\_ridge.py\", line 157, in _solve_cholesky\n",
      "    return linalg.solve(A, Xy, sym_pos=True, overwrite_a=True).T\n",
      "TypeError: solve() got an unexpected keyword argument 'sym_pos'\n",
      "\n",
      "  warnings.warn(some_fits_failed_message, FitFailedWarning)\n",
      "C:\\Users\\dell\\anaconda3\\lib\\site-packages\\sklearn\\model_selection\\_search.py:969: UserWarning: One or more of the test scores are non-finite: [nan nan nan]\n",
      "  warnings.warn(\n"
     ]
    },
    {
     "ename": "TypeError",
     "evalue": "solve() got an unexpected keyword argument 'sym_pos'",
     "output_type": "error",
     "traceback": [
      "\u001b[1;31m---------------------------------------------------------------------------\u001b[0m",
      "\u001b[1;31mTypeError\u001b[0m                                 Traceback (most recent call last)",
      "Input \u001b[1;32mIn [62]\u001b[0m, in \u001b[0;36m<cell line: 3>\u001b[1;34m()\u001b[0m\n\u001b[0;32m      1\u001b[0m \u001b[38;5;28;01mfrom\u001b[39;00m \u001b[38;5;21;01msklearn\u001b[39;00m\u001b[38;5;21;01m.\u001b[39;00m\u001b[38;5;21;01mlinear_model\u001b[39;00m \u001b[38;5;28;01mimport\u001b[39;00m RidgeCV\n\u001b[0;32m      2\u001b[0m ri\u001b[38;5;241m=\u001b[39mRidgeCV(cv\u001b[38;5;241m=\u001b[39m\u001b[38;5;241m5\u001b[39m)\n\u001b[1;32m----> 3\u001b[0m \u001b[43mri\u001b[49m\u001b[38;5;241;43m.\u001b[39;49m\u001b[43mfit\u001b[49m\u001b[43m(\u001b[49m\u001b[43mX_train_scaled\u001b[49m\u001b[43m,\u001b[49m\u001b[43my_train\u001b[49m\u001b[43m)\u001b[49m\n\u001b[0;32m      4\u001b[0m y_pred\u001b[38;5;241m=\u001b[39mri\u001b[38;5;241m.\u001b[39mpredict(X_test_scaled)\n\u001b[0;32m      5\u001b[0m \u001b[38;5;28;01mfrom\u001b[39;00m \u001b[38;5;21;01msklearn\u001b[39;00m\u001b[38;5;21;01m.\u001b[39;00m\u001b[38;5;21;01mmetrics\u001b[39;00m \u001b[38;5;28;01mimport\u001b[39;00m r2_score,mean_squared_error\n",
      "File \u001b[1;32m~\\anaconda3\\lib\\site-packages\\sklearn\\linear_model\\_ridge.py:2053\u001b[0m, in \u001b[0;36m_BaseRidgeCV.fit\u001b[1;34m(self, X, y, sample_weight)\u001b[0m\n\u001b[0;32m   2042\u001b[0m model \u001b[38;5;241m=\u001b[39m RidgeClassifier \u001b[38;5;28;01mif\u001b[39;00m is_classifier(\u001b[38;5;28mself\u001b[39m) \u001b[38;5;28;01melse\u001b[39;00m Ridge\n\u001b[0;32m   2043\u001b[0m gs \u001b[38;5;241m=\u001b[39m GridSearchCV(\n\u001b[0;32m   2044\u001b[0m     model(\n\u001b[0;32m   2045\u001b[0m         fit_intercept\u001b[38;5;241m=\u001b[39m\u001b[38;5;28mself\u001b[39m\u001b[38;5;241m.\u001b[39mfit_intercept,\n\u001b[1;32m   (...)\u001b[0m\n\u001b[0;32m   2051\u001b[0m     scoring\u001b[38;5;241m=\u001b[39m\u001b[38;5;28mself\u001b[39m\u001b[38;5;241m.\u001b[39mscoring,\n\u001b[0;32m   2052\u001b[0m )\n\u001b[1;32m-> 2053\u001b[0m \u001b[43mgs\u001b[49m\u001b[38;5;241;43m.\u001b[39;49m\u001b[43mfit\u001b[49m\u001b[43m(\u001b[49m\u001b[43mX\u001b[49m\u001b[43m,\u001b[49m\u001b[43m \u001b[49m\u001b[43my\u001b[49m\u001b[43m,\u001b[49m\u001b[43m \u001b[49m\u001b[43msample_weight\u001b[49m\u001b[38;5;241;43m=\u001b[39;49m\u001b[43msample_weight\u001b[49m\u001b[43m)\u001b[49m\n\u001b[0;32m   2054\u001b[0m estimator \u001b[38;5;241m=\u001b[39m gs\u001b[38;5;241m.\u001b[39mbest_estimator_\n\u001b[0;32m   2055\u001b[0m \u001b[38;5;28mself\u001b[39m\u001b[38;5;241m.\u001b[39malpha_ \u001b[38;5;241m=\u001b[39m gs\u001b[38;5;241m.\u001b[39mbest_estimator_\u001b[38;5;241m.\u001b[39malpha\n",
      "File \u001b[1;32m~\\anaconda3\\lib\\site-packages\\sklearn\\model_selection\\_search.py:926\u001b[0m, in \u001b[0;36mBaseSearchCV.fit\u001b[1;34m(self, X, y, groups, **fit_params)\u001b[0m\n\u001b[0;32m    924\u001b[0m refit_start_time \u001b[38;5;241m=\u001b[39m time\u001b[38;5;241m.\u001b[39mtime()\n\u001b[0;32m    925\u001b[0m \u001b[38;5;28;01mif\u001b[39;00m y \u001b[38;5;129;01mis\u001b[39;00m \u001b[38;5;129;01mnot\u001b[39;00m \u001b[38;5;28;01mNone\u001b[39;00m:\n\u001b[1;32m--> 926\u001b[0m     \u001b[38;5;28mself\u001b[39m\u001b[38;5;241m.\u001b[39mbest_estimator_\u001b[38;5;241m.\u001b[39mfit(X, y, \u001b[38;5;241m*\u001b[39m\u001b[38;5;241m*\u001b[39mfit_params)\n\u001b[0;32m    927\u001b[0m \u001b[38;5;28;01melse\u001b[39;00m:\n\u001b[0;32m    928\u001b[0m     \u001b[38;5;28mself\u001b[39m\u001b[38;5;241m.\u001b[39mbest_estimator_\u001b[38;5;241m.\u001b[39mfit(X, \u001b[38;5;241m*\u001b[39m\u001b[38;5;241m*\u001b[39mfit_params)\n",
      "File \u001b[1;32m~\\anaconda3\\lib\\site-packages\\sklearn\\linear_model\\_ridge.py:1011\u001b[0m, in \u001b[0;36mRidge.fit\u001b[1;34m(self, X, y, sample_weight)\u001b[0m\n\u001b[0;32m   1002\u001b[0m _accept_sparse \u001b[38;5;241m=\u001b[39m _get_valid_accept_sparse(sparse\u001b[38;5;241m.\u001b[39missparse(X), \u001b[38;5;28mself\u001b[39m\u001b[38;5;241m.\u001b[39msolver)\n\u001b[0;32m   1003\u001b[0m X, y \u001b[38;5;241m=\u001b[39m \u001b[38;5;28mself\u001b[39m\u001b[38;5;241m.\u001b[39m_validate_data(\n\u001b[0;32m   1004\u001b[0m     X,\n\u001b[0;32m   1005\u001b[0m     y,\n\u001b[1;32m   (...)\u001b[0m\n\u001b[0;32m   1009\u001b[0m     y_numeric\u001b[38;5;241m=\u001b[39m\u001b[38;5;28;01mTrue\u001b[39;00m,\n\u001b[0;32m   1010\u001b[0m )\n\u001b[1;32m-> 1011\u001b[0m \u001b[38;5;28;01mreturn\u001b[39;00m \u001b[38;5;28;43msuper\u001b[39;49m\u001b[43m(\u001b[49m\u001b[43m)\u001b[49m\u001b[38;5;241;43m.\u001b[39;49m\u001b[43mfit\u001b[49m\u001b[43m(\u001b[49m\u001b[43mX\u001b[49m\u001b[43m,\u001b[49m\u001b[43m \u001b[49m\u001b[43my\u001b[49m\u001b[43m,\u001b[49m\u001b[43m \u001b[49m\u001b[43msample_weight\u001b[49m\u001b[38;5;241;43m=\u001b[39;49m\u001b[43msample_weight\u001b[49m\u001b[43m)\u001b[49m\n",
      "File \u001b[1;32m~\\anaconda3\\lib\\site-packages\\sklearn\\linear_model\\_ridge.py:782\u001b[0m, in \u001b[0;36m_BaseRidge.fit\u001b[1;34m(self, X, y, sample_weight)\u001b[0m\n\u001b[0;32m    778\u001b[0m     \u001b[38;5;28;01melse\u001b[39;00m:\n\u001b[0;32m    779\u001b[0m         \u001b[38;5;66;03m# for dense matrices or when intercept is set to 0\u001b[39;00m\n\u001b[0;32m    780\u001b[0m         params \u001b[38;5;241m=\u001b[39m {}\n\u001b[1;32m--> 782\u001b[0m     \u001b[38;5;28mself\u001b[39m\u001b[38;5;241m.\u001b[39mcoef_, \u001b[38;5;28mself\u001b[39m\u001b[38;5;241m.\u001b[39mn_iter_ \u001b[38;5;241m=\u001b[39m _ridge_regression(\n\u001b[0;32m    783\u001b[0m         X,\n\u001b[0;32m    784\u001b[0m         y,\n\u001b[0;32m    785\u001b[0m         alpha\u001b[38;5;241m=\u001b[39m\u001b[38;5;28mself\u001b[39m\u001b[38;5;241m.\u001b[39malpha,\n\u001b[0;32m    786\u001b[0m         sample_weight\u001b[38;5;241m=\u001b[39msample_weight,\n\u001b[0;32m    787\u001b[0m         max_iter\u001b[38;5;241m=\u001b[39m\u001b[38;5;28mself\u001b[39m\u001b[38;5;241m.\u001b[39mmax_iter,\n\u001b[0;32m    788\u001b[0m         tol\u001b[38;5;241m=\u001b[39m\u001b[38;5;28mself\u001b[39m\u001b[38;5;241m.\u001b[39mtol,\n\u001b[0;32m    789\u001b[0m         solver\u001b[38;5;241m=\u001b[39msolver,\n\u001b[0;32m    790\u001b[0m         positive\u001b[38;5;241m=\u001b[39m\u001b[38;5;28mself\u001b[39m\u001b[38;5;241m.\u001b[39mpositive,\n\u001b[0;32m    791\u001b[0m         random_state\u001b[38;5;241m=\u001b[39m\u001b[38;5;28mself\u001b[39m\u001b[38;5;241m.\u001b[39mrandom_state,\n\u001b[0;32m    792\u001b[0m         return_n_iter\u001b[38;5;241m=\u001b[39m\u001b[38;5;28;01mTrue\u001b[39;00m,\n\u001b[0;32m    793\u001b[0m         return_intercept\u001b[38;5;241m=\u001b[39m\u001b[38;5;28;01mFalse\u001b[39;00m,\n\u001b[0;32m    794\u001b[0m         check_input\u001b[38;5;241m=\u001b[39m\u001b[38;5;28;01mFalse\u001b[39;00m,\n\u001b[0;32m    795\u001b[0m         \u001b[38;5;241m*\u001b[39m\u001b[38;5;241m*\u001b[39mparams,\n\u001b[0;32m    796\u001b[0m     )\n\u001b[0;32m    797\u001b[0m     \u001b[38;5;28mself\u001b[39m\u001b[38;5;241m.\u001b[39m_set_intercept(X_offset, y_offset, X_scale)\n\u001b[0;32m    799\u001b[0m \u001b[38;5;28;01mreturn\u001b[39;00m \u001b[38;5;28mself\u001b[39m\n",
      "File \u001b[1;32m~\\anaconda3\\lib\\site-packages\\sklearn\\linear_model\\_ridge.py:599\u001b[0m, in \u001b[0;36m_ridge_regression\u001b[1;34m(X, y, alpha, sample_weight, solver, max_iter, tol, verbose, positive, random_state, return_n_iter, return_intercept, X_scale, X_offset, check_input)\u001b[0m\n\u001b[0;32m    597\u001b[0m \u001b[38;5;28;01melse\u001b[39;00m:\n\u001b[0;32m    598\u001b[0m     \u001b[38;5;28;01mtry\u001b[39;00m:\n\u001b[1;32m--> 599\u001b[0m         coef \u001b[38;5;241m=\u001b[39m \u001b[43m_solve_cholesky\u001b[49m\u001b[43m(\u001b[49m\u001b[43mX\u001b[49m\u001b[43m,\u001b[49m\u001b[43m \u001b[49m\u001b[43my\u001b[49m\u001b[43m,\u001b[49m\u001b[43m \u001b[49m\u001b[43malpha\u001b[49m\u001b[43m)\u001b[49m\n\u001b[0;32m    600\u001b[0m     \u001b[38;5;28;01mexcept\u001b[39;00m linalg\u001b[38;5;241m.\u001b[39mLinAlgError:\n\u001b[0;32m    601\u001b[0m         \u001b[38;5;66;03m# use SVD solver if matrix is singular\u001b[39;00m\n\u001b[0;32m    602\u001b[0m         solver \u001b[38;5;241m=\u001b[39m \u001b[38;5;124m\"\u001b[39m\u001b[38;5;124msvd\u001b[39m\u001b[38;5;124m\"\u001b[39m\n",
      "File \u001b[1;32m~\\anaconda3\\lib\\site-packages\\sklearn\\linear_model\\_ridge.py:157\u001b[0m, in \u001b[0;36m_solve_cholesky\u001b[1;34m(X, y, alpha)\u001b[0m\n\u001b[0;32m    155\u001b[0m \u001b[38;5;28;01mif\u001b[39;00m one_alpha:\n\u001b[0;32m    156\u001b[0m     A\u001b[38;5;241m.\u001b[39mflat[:: n_features \u001b[38;5;241m+\u001b[39m \u001b[38;5;241m1\u001b[39m] \u001b[38;5;241m+\u001b[39m\u001b[38;5;241m=\u001b[39m alpha[\u001b[38;5;241m0\u001b[39m]\n\u001b[1;32m--> 157\u001b[0m     \u001b[38;5;28;01mreturn\u001b[39;00m \u001b[43mlinalg\u001b[49m\u001b[38;5;241;43m.\u001b[39;49m\u001b[43msolve\u001b[49m\u001b[43m(\u001b[49m\u001b[43mA\u001b[49m\u001b[43m,\u001b[49m\u001b[43m \u001b[49m\u001b[43mXy\u001b[49m\u001b[43m,\u001b[49m\u001b[43m \u001b[49m\u001b[43msym_pos\u001b[49m\u001b[38;5;241;43m=\u001b[39;49m\u001b[38;5;28;43;01mTrue\u001b[39;49;00m\u001b[43m,\u001b[49m\u001b[43m \u001b[49m\u001b[43moverwrite_a\u001b[49m\u001b[38;5;241;43m=\u001b[39;49m\u001b[38;5;28;43;01mTrue\u001b[39;49;00m\u001b[43m)\u001b[49m\u001b[38;5;241m.\u001b[39mT\n\u001b[0;32m    158\u001b[0m \u001b[38;5;28;01melse\u001b[39;00m:\n\u001b[0;32m    159\u001b[0m     coefs \u001b[38;5;241m=\u001b[39m np\u001b[38;5;241m.\u001b[39mempty([n_targets, n_features], dtype\u001b[38;5;241m=\u001b[39mX\u001b[38;5;241m.\u001b[39mdtype)\n",
      "\u001b[1;31mTypeError\u001b[0m: solve() got an unexpected keyword argument 'sym_pos'"
     ]
    }
   ],
   "source": [
    "from sklearn.linear_model import RidgeCV\n",
    "ri=RidgeCV(cv=5)\n",
    "ri.fit(X_train_scaled,y_train)\n",
    "y_pred=ri.predict(X_test_scaled)\n",
    "from sklearn.metrics import r2_score,mean_squared_error\n",
    "\n",
    "mse = mean_squared_error(y_pred,y_test)\n",
    "score=r2_score(y_pred,y_test)\n",
    "\n",
    "print(mse,score)\n",
    "\n",
    "plt.scatter(y_pred,y_test)\n"
   ]
  },
  {
   "cell_type": "markdown",
   "id": "a0027c17",
   "metadata": {},
   "source": [
    "# Elastic CV"
   ]
  },
  {
   "cell_type": "code",
   "execution_count": 63,
   "id": "936dc325",
   "metadata": {},
   "outputs": [
    {
     "name": "stdout",
     "output_type": "stream",
     "text": [
      "0.8608422455718341 0.9790305445425309\n"
     ]
    },
    {
     "data": {
      "text/plain": [
       "<matplotlib.collections.PathCollection at 0x1b239e661c0>"
      ]
     },
     "execution_count": 63,
     "metadata": {},
     "output_type": "execute_result"
    },
    {
     "data": {
      "image/png": "[encoded data removed]",
      "text/plain": [
       "<Figure size 432x288 with 1 Axes>"
      ]
     },
     "metadata": {
      "needs_background": "light"
     },
     "output_type": "display_data"
    }
   ],
   "source": [
    "\n",
    "from sklearn.linear_model import ElasticNetCV\n",
    "en=ElasticNetCV(cv=5)\n",
    "en.fit(X_train_scaled,y_train)\n",
    "y_pred=en.predict(X_test_scaled)\n",
    "\n",
    "from sklearn.metrics import r2_score,mean_squared_error\n",
    "\n",
    "mse = mean_squared_error(y_pred,y_test)\n",
    "score=r2_score(y_pred,y_test)\n",
    "\n",
    "print(mse,score)\n",
    "\n",
    "plt.scatter(y_pred,y_test)"
   ]
  },
  {
   "cell_type": "code",
   "execution_count": 65,
   "id": "650ebf54",
   "metadata": {},
   "outputs": [
    {
     "data": {
      "text/plain": [
       "{'alphas': None,\n",
       " 'copy_X': True,\n",
       " 'cv': 5,\n",
       " 'eps': 0.001,\n",
       " 'fit_intercept': True,\n",
       " 'l1_ratio': 0.5,\n",
       " 'max_iter': 1000,\n",
       " 'n_alphas': 100,\n",
       " 'n_jobs': None,\n",
       " 'normalize': 'deprecated',\n",
       " 'positive': False,\n",
       " 'precompute': 'auto',\n",
       " 'random_state': None,\n",
       " 'selection': 'cyclic',\n",
       " 'tol': 0.0001,\n",
       " 'verbose': 0}"
      ]
     },
     "execution_count": 65,
     "metadata": {},
     "output_type": "execute_result"
    }
   ],
   "source": [
    "en.get_params()"
   ]
  },
  {
   "cell_type": "code",
   "execution_count": 66,
   "id": "87a40ea3",
   "metadata": {},
   "outputs": [
    {
     "data": {
      "text/plain": [
       "0.04987818082990677"
      ]
     },
     "execution_count": 66,
     "metadata": {},
     "output_type": "execute_result"
    }
   ],
   "source": [
    "en.alpha_"
   ]
  },
  {
   "cell_type": "code",
   "execution_count": 67,
   "id": "d657da5a",
   "metadata": {},
   "outputs": [
    {
     "data": {
      "text/plain": [
       "array([14.20548481, 13.24808267, 12.35520624, 11.52250669, 10.74592831,\n",
       "       10.0216887 ,  9.34626043,  8.71635375,  8.12890068,  7.58103998,\n",
       "        7.07010326,  6.59360196,  6.14921526,  5.73477873,  5.34827384,\n",
       "        4.98781808,  4.65165584,  4.3381498 ,  4.04577303,  3.77310146,\n",
       "        3.51880705,  3.28165124,  3.06047893,  2.85421289,  2.66184849,\n",
       "        2.48244881,  2.31514007,  2.15910738,  2.01359077,  1.87788149,\n",
       "        1.75131856,  1.63328555,  1.52320757,  1.42054848,  1.32480827,\n",
       "        1.23552062,  1.15225067,  1.07459283,  1.00216887,  0.93462604,\n",
       "        0.87163538,  0.81289007,  0.758104  ,  0.70701033,  0.6593602 ,\n",
       "        0.61492153,  0.57347787,  0.53482738,  0.49878181,  0.46516558,\n",
       "        0.43381498,  0.4045773 ,  0.37731015,  0.35188071,  0.32816512,\n",
       "        0.30604789,  0.28542129,  0.26618485,  0.24824488,  0.23151401,\n",
       "        0.21591074,  0.20135908,  0.18778815,  0.17513186,  0.16332856,\n",
       "        0.15232076,  0.14205485,  0.13248083,  0.12355206,  0.11522507,\n",
       "        0.10745928,  0.10021689,  0.0934626 ,  0.08716354,  0.08128901,\n",
       "        0.0758104 ,  0.07070103,  0.06593602,  0.06149215,  0.05734779,\n",
       "        0.05348274,  0.04987818,  0.04651656,  0.0433815 ,  0.04045773,\n",
       "        0.03773101,  0.03518807,  0.03281651,  0.03060479,  0.02854213,\n",
       "        0.02661848,  0.02482449,  0.0231514 ,  0.02159107,  0.02013591,\n",
       "        0.01877881,  0.01751319,  0.01633286,  0.01523208,  0.01420548])"
      ]
     },
     "execution_count": 67,
     "metadata": {},
     "output_type": "execute_result"
    }
   ],
   "source": [
    "en.alphas_"
   ]
  },
  {
   "cell_type": "code",
   "execution_count": 68,
   "id": "33084997",
   "metadata": {},
   "outputs": [
    {
     "data": {
      "text/plain": [
       "array([[52.48365832, 76.54197718, 44.74158311, 85.19903601, 41.23473866],\n",
       "       [51.11657704, 76.31684337, 43.46977292, 85.19903601, 40.02609156],\n",
       "       [49.71276218, 75.09591886, 42.16646986, 84.08066335, 38.78760998],\n",
       "       [48.27470191, 73.05675857, 40.83434279, 82.6075218 , 37.52179924],\n",
       "       [46.80524857, 70.96600356, 39.29651483, 80.30820457, 36.23149314],\n",
       "       [44.79917548, 68.71955852, 37.59148838, 77.70339242, 34.64720168],\n",
       "       [42.77739395, 65.88291744, 35.69023459, 74.73906   , 32.71908362],\n",
       "       [40.78107623, 63.03650863, 33.82413626, 71.66453214, 30.77861359],\n",
       "       [38.79825958, 60.21321042, 31.99942629, 68.61658989, 28.85427986],\n",
       "       [36.74791619, 57.39601788, 30.2219748 , 65.60415293, 26.99413108],\n",
       "       [34.75760254, 54.54392464, 28.36240682, 62.55494829, 25.20297498],\n",
       "       [32.78191975, 51.77526383, 26.5417058 , 59.46678547, 23.48492561],\n",
       "       [30.87564658, 49.09455238, 24.73382567, 56.43859569, 21.84337042],\n",
       "       [29.05308156, 46.50547502, 23.02385424, 53.45241323, 20.28085547],\n",
       "       [27.31528873, 44.01088665, 21.4166636 , 50.5756457 , 18.72782029],\n",
       "       [25.66261355, 41.61282911, 19.91183094, 47.81103552, 17.25658647],\n",
       "       [24.09472686, 39.31256219, 18.50809754, 45.16038175, 15.88348634],\n",
       "       [22.61067862, 37.11060671, 17.20344146, 42.62468577, 14.60657037],\n",
       "       [21.20894341, 35.00663771, 15.99516051, 40.20376873, 13.4232279 ],\n",
       "       [19.88749861, 33.00006061, 14.8800462 , 37.89702294, 12.33030673],\n",
       "       [18.64394132, 31.08945772, 13.85411446, 35.70302817, 11.32403688],\n",
       "       [17.47550058, 29.27299679, 12.91328068, 33.61974834, 10.40040739],\n",
       "       [16.37912969, 27.54843464, 12.05306175, 31.64461676,  9.55505147],\n",
       "       [15.35157555, 25.91318898, 11.26876958, 29.77462171,  8.78338841],\n",
       "       [14.38944402, 24.36440767, 10.55559957, 28.00639038,  8.08070642],\n",
       "       [13.48909491, 22.89859178,  9.90871213, 26.33615274,  7.44223895],\n",
       "       [12.64728807, 21.51324413,  9.32326636, 24.76015382,  6.8631562 ],\n",
       "       [11.8604478 , 20.20479576,  8.79458951, 23.2743807 ,  6.33890453],\n",
       "       [11.12516546, 18.96992722,  8.31814609, 21.87476921,  5.86489211],\n",
       "       [10.43813097, 17.80532232,  7.88960066, 20.55723859,  5.43674314],\n",
       "       [ 9.79616005, 16.70770226,  7.50485611, 19.31773801,  5.05028603],\n",
       "       [ 9.19595076, 15.67315926,  7.16007944, 18.15195624,  4.70157918],\n",
       "       [ 8.63511988, 14.69979861,  6.85157778, 17.05653708,  4.38681205],\n",
       "       [ 8.11075357, 13.78407656,  6.57632874, 16.02752501,  4.10279293],\n",
       "       [ 7.6203299 , 12.92309772,  6.33126993, 15.06131596,  3.84624695],\n",
       "       [ 7.16150309, 12.11408712,  6.113725  , 14.15446122,  3.6293298 ],\n",
       "       [ 6.73185428, 11.35364985,  5.92129682, 13.30326779,  3.4419956 ],\n",
       "       [ 6.32988032, 10.64065323,  5.75168042, 12.50534378,  3.27321271],\n",
       "       [ 5.95350376,  9.97206585,  5.60331185, 11.75742662,  3.12085255],\n",
       "       [ 5.6010315 ,  9.34559963,  5.47439657, 11.05672674,  2.9830998 ],\n",
       "       [ 5.27090934,  8.75907417,  5.3634893 , 10.40060824,  2.85812028],\n",
       "       [ 4.96155847,  8.20973077,  5.26933003,  9.78618839,  2.74440283],\n",
       "       [ 4.67202033,  7.69693023,  5.19063239,  9.21188399,  2.64058073],\n",
       "       [ 4.40090817,  7.21814958,  5.126795  ,  8.67513032,  2.54562052],\n",
       "       [ 4.14708916,  6.76825991,  5.07681612,  8.17013086,  2.45819496],\n",
       "       [ 3.89905595,  6.34508522,  5.03703122,  7.6975425 ,  2.37747061],\n",
       "       [ 3.66853622,  5.95219767,  5.00588336,  7.25723576,  2.30263653],\n",
       "       [ 3.45463589,  5.58774768,  4.98860642,  6.84731817,  2.23299   ],\n",
       "       [ 3.25618655,  5.25298975,  4.98406423,  6.46531155,  2.16822202],\n",
       "       [ 3.07213286,  4.95175684,  4.99187131,  6.10698796,  2.10728779],\n",
       "       [ 2.90148925,  4.67370615,  5.01103955,  5.77424965,  2.04996953],\n",
       "       [ 2.74344196,  4.4170592 ,  5.04391043,  5.46554959,  1.99589022],\n",
       "       [ 2.59172078,  4.18388976,  5.09089801,  5.17949949,  1.95178531],\n",
       "       [ 2.44984212,  3.97578369,  5.14639933,  4.91464186,  1.91286176],\n",
       "       [ 2.33108901,  3.7853432 ,  5.20073981,  4.6696473 ,  1.87591652],\n",
       "       [ 2.22210042,  3.61090701,  5.25342692,  4.46113178,  1.829319  ],\n",
       "       [ 2.1217808 ,  3.45119942,  5.31400166,  4.27328967,  1.77457517],\n",
       "       [ 2.03153665,  3.30503311,  5.38068277,  4.10038442,  1.72279736],\n",
       "       [ 1.94865176,  3.17130454,  5.45277887,  3.94060723,  1.67378268],\n",
       "       [ 1.87245101,  3.04898976,  5.5297751 ,  3.78250552,  1.62737518],\n",
       "       [ 1.80239791,  2.93714025,  5.61151844,  3.61699098,  1.58345078],\n",
       "       [ 1.73799873,  2.83487868,  5.69687751,  3.46480207,  1.54182937],\n",
       "       [ 1.67879986,  2.74139483,  5.78565778,  3.32485749,  1.50244766],\n",
       "       [ 1.62438491,  2.6559415 ,  5.87737945,  3.19618392,  1.46520652],\n",
       "       [ 1.57437135,  2.57780948,  5.97157284,  3.07787841,  1.43001465],\n",
       "       [ 1.52840754,  2.51285364,  6.06773145,  2.96910476,  1.39700281],\n",
       "       [ 1.48616996,  2.4541604 ,  6.15552091,  2.86920911,  1.37015834],\n",
       "       [ 1.44525756,  2.3985256 ,  6.2442727 ,  2.77791401,  1.33552217],\n",
       "       [ 1.38992131,  2.32943155,  6.33604666,  2.69417099,  1.29317595],\n",
       "       [ 1.33917478,  2.26567523,  6.42899999,  2.59786899,  1.25409189],\n",
       "       [ 1.29256453,  2.20704356,  6.5231896 ,  2.50966813,  1.21731294],\n",
       "       [ 1.25007703,  2.15290891,  6.61807237,  2.4291191 ,  1.18382904],\n",
       "       [ 1.21122402,  2.10333915,  6.71353227,  2.35584279,  1.15287912],\n",
       "       [ 1.17553427,  2.05748845,  6.80831653,  2.29098686,  1.12429183],\n",
       "       [ 1.14309466,  2.01558816,  6.9024036 ,  2.23349543,  1.09791034],\n",
       "       [ 1.11345753,  1.97705024,  6.99543005,  2.18133548,  1.07358327],\n",
       "       [ 1.08622363,  1.94160265,  7.08705867,  2.1339408 ,  1.05116644],\n",
       "       [ 1.06151061,  1.90899135,  7.17699287,  2.09087272,  1.03084486],\n",
       "       [ 1.03894036,  1.87876269,  7.26497488,  2.05172884,  1.0122705 ],\n",
       "       [ 1.01832556,  1.85115727,  7.35078431,  2.01615174,  0.99525257],\n",
       "       [ 0.99949469,  1.82678507,  7.43423627,  1.98380105,  0.9796877 ],\n",
       "       [ 0.98228213,  1.80470333,  7.51517932,  1.95437155,  0.96539569],\n",
       "       [ 0.96656284,  1.78441384,  7.59313879,  1.92758859,  0.95227481],\n",
       "       [ 0.95222706,  1.76555576,  7.66625839,  1.90320324,  0.94023022],\n",
       "       [ 0.93918053,  1.74840621,  7.73464255,  1.87966152,  0.92917381],\n",
       "       [ 0.92725291,  1.73263593,  7.80047503,  1.85799934,  0.91938449],\n",
       "       [ 0.9164048 ,  1.71812048,  7.8636226 ,  1.83816642,  0.91069251],\n",
       "       [ 0.90661861,  1.70475486,  7.92450885,  1.81998669,  0.90273388],\n",
       "       [ 0.8977547 ,  1.69244271,  7.98330435,  1.80331305,  0.89543836],\n",
       "       [ 0.889637  ,  1.68089145,  8.03920017,  1.78801164,  0.88874987],\n",
       "       [ 0.88230459,  1.67007105,  8.092362  ,  1.77404381,  0.88254661],\n",
       "       [ 0.87564069,  1.66023076,  8.14287481,  1.7611209 ,  0.87688873],\n",
       "       [ 0.86957276,  1.65116829,  8.19081003,  1.74925127,  0.87173161],\n",
       "       [ 0.86404444,  1.64277193,  8.23624674,  1.73992774,  0.86699658],\n",
       "       [ 0.8589732 ,  1.63467575,  8.27908519,  1.73142377,  0.86264735],\n",
       "       [ 0.85436373,  1.6267918 ,  8.31984405,  1.72365516,  0.85864913],\n",
       "       [ 0.85016893,  1.61964479,  8.35830056,  1.71673384,  0.85492928],\n",
       "       [ 0.84632789,  1.61307102,  8.39419267,  1.71020957,  0.85155108],\n",
       "       [ 0.84280457,  1.60700426,  8.42721257,  1.70424998,  0.84844449],\n",
       "       [ 0.83960001,  1.60132627,  8.45861022,  1.69899591,  0.8456387 ]])"
      ]
     },
     "execution_count": 68,
     "metadata": {},
     "output_type": "execute_result"
    }
   ],
   "source": [
    "en.mse_path_"
   ]
  },
  {
   "cell_type": "code",
   "execution_count": null,
   "id": "5cb3650c",
   "metadata": {},
   "outputs": [],
   "source": []
  },
  {
   "cell_type": "code",
   "execution_count": null,
   "id": "1b3c371d",
   "metadata": {},
   "outputs": [],
   "source": []
  }
 ],
 "metadata": {
  "kernelspec": {
   "display_name": "Python 3 (ipykernel)",
   "language": "python",
   "name": "python3"
  },
  "language_info": {
   "codemirror_mode": {
    "name": "ipython",
    "version": 3
   },
   "file_extension": ".py",
   "mimetype": "text/x-python",
   "name": "python",
   "nbconvert_exporter": "python",
   "pygments_lexer": "ipython3",
   "version": "3.9.12"
  }
 },
 "nbformat": 4,
 "nbformat_minor": 5
}
